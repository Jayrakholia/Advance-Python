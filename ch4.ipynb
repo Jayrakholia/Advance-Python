{
 "cells": [
  {
   "attachments": {},
   "cell_type": "markdown",
   "metadata": {},
   "source": [
    "Chap 4 : Dictionary"
   ]
  },
  {
   "cell_type": "code",
   "execution_count": 6,
   "metadata": {},
   "outputs": [
    {
     "name": "stdout",
     "output_type": "stream",
     "text": [
      "\n",
      "Dictionary\n",
      "{'a': [1, 2, 3], 123: 'hello float', 123.12: 'hello double', False: True}\n",
      "[1, 2, 3]\n",
      "[1, 2, 3]\n",
      "hello float\n"
     ]
    }
   ],
   "source": [
    "print(\"\\nDictionary\")\n",
    "dictionary = {\n",
    "  'a': [1,2,3],\n",
    "  123: 'hello integer',\n",
    "  123.0:'hello float',  \n",
    "  123.12:'hello double',\n",
    "  False: True\n",
    "}\n",
    "print(dictionary)\n",
    "print(dictionary['a'])\n",
    "print(dictionary.get('a',\"default_value\"))\n",
    "print(dictionary[123])"
   ]
  },
  {
   "cell_type": "code",
   "execution_count": 7,
   "metadata": {},
   "outputs": [
    {
     "name": "stdout",
     "output_type": "stream",
     "text": [
      "{'a': [1, 2, 3], 'b': 'asd'}\n",
      "asd\n"
     ]
    }
   ],
   "source": [
    "#Another way to create a dictionary\n",
    "dictionary2 = dict(a=[1,2,3], b=\"asd\")\n",
    "print(dictionary2)\n",
    "print(dictionary2['b'])"
   ]
  },
  {
   "cell_type": "code",
   "execution_count": 9,
   "metadata": {},
   "outputs": [
    {
     "name": "stdout",
     "output_type": "stream",
     "text": [
      "{'car': 2, 'bus': 4}\n",
      "{'car': 4, 'bus': 4}\n"
     ]
    }
   ],
   "source": [
    "dictionary3 = {\n",
    "    'car': 2,\n",
    "    'bus': 4,\n",
    "}\n",
    "print(dictionary3)\n",
    "#another method\n",
    "dictionary4 = dict(car=4,bus=4)\n",
    "print(dictionary4)"
   ]
  },
  {
   "cell_type": "code",
   "execution_count": 11,
   "metadata": {},
   "outputs": [
    {
     "name": "stdout",
     "output_type": "stream",
     "text": [
      "\n",
      "List with dictionary\n",
      "[4, 5, 6]\n"
     ]
    }
   ],
   "source": [
    "#Creating list with dictionary\n",
    "print(\"\\nList with dictionary\")\n",
    "my_list = [\n",
    "    {\n",
    "        'a':[1,2,3],\n",
    "        'b':'hello',\n",
    "        'c': True\n",
    "    },\n",
    "    {\n",
    "        'a': [4,5,6],\n",
    "        'b': 'world',\n",
    "        'c': False\n",
    "    }\n",
    "]\n",
    "print(my_list[1]['a'])"
   ]
  },
  {
   "cell_type": "code",
   "execution_count": 43,
   "metadata": {},
   "outputs": [
    {
     "name": "stdout",
     "output_type": "stream",
     "text": [
      "return 'none' in absence of key :  None\n",
      "return default if key not present else returns the actual value:  default_Age\n",
      "b set from default\n",
      "{'a': [1, 2, 3], 123: 'hello integer', 'b': 'b set from default'}\n"
     ]
    }
   ],
   "source": [
    "#Eliminate error if key not present in the dictionary\n",
    "dictionary = {\n",
    "    'a':[1,2,3],\n",
    "    123: 'hello integer',\n",
    "}\n",
    "\n",
    "print(\"return 'none' in absence of key : \",dictionary.get('age'))\n",
    "print(\"return default if key not present else returns the actual value: \",dictionary.get('age','default_Age'))\n",
    "print(dictionary.setdefault(\"b\",\"b set from default\"))\n",
    "print(dictionary)"
   ]
  },
  {
   "cell_type": "code",
   "execution_count": 44,
   "metadata": {},
   "outputs": [
    {
     "name": "stdout",
     "output_type": "stream",
     "text": [
      "check for the presence of key 'a' : True\n",
      "check for the presence of value 'hello' : False\n",
      "check for the presence of value 'hello integer : False\n",
      "check for the presence of key 'a' : True\n",
      "check for the presence of value 'hello' : False\n",
      "Check for the presence of value 'hello integer' : True\n"
     ]
    }
   ],
   "source": [
    "#Or else you an check for a key another way\n",
    "print(\"check for the presence of key 'a' :\", 'a' in dictionary)\n",
    "print(\"check for the presence of value 'hello' :\", 'hello' in dictionary)\n",
    "print(\"check for the presence of value 'hello integer :\",'hello integer' in dictionary)\n",
    "print(\"check for the presence of key 'a' :\",'a' in dictionary.keys())\n",
    "print(\"check for the presence of value 'hello' :\",'hello' in dictionary.values())\n",
    "print(\"Check for the presence of value 'hello integer' :\", 'hello integer' in dictionary.values())\n"
   ]
  },
  {
   "cell_type": "code",
   "execution_count": 45,
   "metadata": {},
   "outputs": [
    {
     "name": "stdout",
     "output_type": "stream",
     "text": [
      "<class 'dict'>\n",
      "<class 'dict_items'>\n",
      "Get whole dictionary items in a list(couple): dict_items([('a', [1, 2, 3]), (123, 'hello integer'), ('b', 'b set from default')])\n"
     ]
    }
   ],
   "source": [
    "print(type(dictionary))\n",
    "print(type(dictionary.items()))\n",
    "print(\"Get whole dictionary items in a list(couple):\", dictionary.items())"
   ]
  },
  {
   "cell_type": "code",
   "execution_count": 46,
   "metadata": {},
   "outputs": [
    {
     "name": "stdout",
     "output_type": "stream",
     "text": [
      "dic after copying :  {'a': [1, 2, 3], 123: 'hello integer', 'b': 'b set from default'}\n",
      "dic after clearing:  {}\n",
      "pop key value pair : [1, 2, 3]\n",
      "dictionary3 : {123: 'hello integer', 'b': 'b set from default'}\n"
     ]
    }
   ],
   "source": [
    "dictionary3 = dictionary.copy()\n",
    "print(\"dic after copying : \",dictionary3)\n",
    "dictionary.clear()\n",
    "print(\"dic after clearing: \", dictionary)\n",
    "print(\"pop key value pair :\", dictionary3.pop('a'))\n",
    "print(\"dictionary3 :\",dictionary3)"
   ]
  },
  {
   "cell_type": "code",
   "execution_count": 50,
   "metadata": {},
   "outputs": [
    {
     "name": "stdout",
     "output_type": "stream",
     "text": [
      "updating key(123) : None\n",
      "{123: 'hell', 'b': 'b set from default'}\n",
      "Updating key(123) : None\n",
      "{123: 'hell', 'b': 'b set from default', 'zebra': 'black'}\n"
     ]
    }
   ],
   "source": [
    "#Update a value\n",
    "print(\"updating key(123) :\", dictionary3.update({123:'hell'}))\n",
    "print(dictionary3)\n",
    "print(\"Updating key(123) :\", dictionary3.update({'zebra':'black'}))\n",
    "print(dictionary3)"
   ]
  },
  {
   "cell_type": "code",
   "execution_count": 51,
   "metadata": {},
   "outputs": [
    {
     "name": "stdout",
     "output_type": "stream",
     "text": [
      "\n",
      "Iterating the dict simply\n",
      "a\n",
      "123\n",
      "False\n"
     ]
    }
   ],
   "source": [
    "#Iterating dictionary\n",
    "dictionary = {\n",
    "    'a': [1,2,3],\n",
    "    123: 'hello',\n",
    "    False: True\n",
    "}\n",
    "\n",
    "print(\"\\nIterating the dict simply\")\n",
    "for item in dictionary:\n",
    "    print(item)"
   ]
  },
  {
   "cell_type": "code",
   "execution_count": 52,
   "metadata": {},
   "outputs": [
    {
     "name": "stdout",
     "output_type": "stream",
     "text": [
      "\n",
      "Iterating the dict by key\n",
      "a\n",
      "123\n",
      "False\n"
     ]
    }
   ],
   "source": [
    "print(\"\\nIterating the dict by key\")\n",
    "for item in dictionary.keys():\n",
    "    print(item)"
   ]
  },
  {
   "cell_type": "code",
   "execution_count": 54,
   "metadata": {},
   "outputs": [
    {
     "name": "stdout",
     "output_type": "stream",
     "text": [
      "\n",
      "Iterating the dict by items\n",
      "('a', [1, 2, 3])\n",
      "(123, 'hello')\n",
      "(False, True)\n"
     ]
    }
   ],
   "source": [
    "print(\"\\nIterating the dict by items\")\n",
    "for item in dictionary.items():\n",
    "    key,value = item\n",
    "    print(item)"
   ]
  },
  {
   "cell_type": "code",
   "execution_count": 55,
   "metadata": {},
   "outputs": [
    {
     "name": "stdout",
     "output_type": "stream",
     "text": [
      "\n",
      "Iterating the dict by values\n",
      "[1, 2, 3]\n",
      "hello\n",
      "True\n"
     ]
    }
   ],
   "source": [
    "print(\"\\nIterating the dict by values\")\n",
    "for item in dictionary.values():\n",
    "    print(item)"
   ]
  },
  {
   "cell_type": "code",
   "execution_count": 58,
   "metadata": {},
   "outputs": [
    {
     "name": "stdout",
     "output_type": "stream",
     "text": [
      "1\n",
      "2\n",
      "Not Present\n"
     ]
    }
   ],
   "source": [
    "from collections import defaultdict\n",
    "def def_value():\n",
    "    return \"Not Present\"\n",
    "d = defaultdict(def_value)\n",
    "d[\"a\"] = 1\n",
    "d[\"b\"] = 2\n",
    "\n",
    "print(d[\"a\"])\n",
    "print(d[\"b\"])\n",
    "print(d[\"c\"])\n"
   ]
  },
  {
   "cell_type": "code",
   "execution_count": 60,
   "metadata": {},
   "outputs": [
    {
     "data": {
      "text/plain": [
       "defaultdict(set,\n",
       "            {'starts_with_j': {'jay'},\n",
       "             'starts_with_r': {'rakholiya'},\n",
       "             'starts_with_v': {'vipulbhai'}})"
      ]
     },
     "execution_count": 60,
     "metadata": {},
     "output_type": "execute_result"
    }
   ],
   "source": [
    "d = defaultdict(set)\n",
    "d['starts_with_j']\n",
    "d['starts_with_j'].add('jay')\n",
    "d['starts_with_r'].add('rakholiya')\n",
    "d['starts_with_v'].add('vipulbhai')\n",
    "d\n",
    "\n",
    "\n"
   ]
  },
  {
   "cell_type": "code",
   "execution_count": 61,
   "metadata": {},
   "outputs": [
    {
     "name": "stdout",
     "output_type": "stream",
     "text": [
      "\n",
      "Iterable sum example\n",
      "total sum of all items =  55\n"
     ]
    }
   ],
   "source": [
    "#sum list members\n",
    "print(\"\\nIterable sum example\")\n",
    "my_list = [1,2,3,4,5,6,7,8,9,10]\n",
    "sum = 0\n",
    "for item in my_list:\n",
    "    sum+=item\n",
    "print(\"total sum of all items = \",str(sum))\n"
   ]
  },
  {
   "cell_type": "code",
   "execution_count": 62,
   "metadata": {},
   "outputs": [
    {
     "name": "stdout",
     "output_type": "stream",
     "text": [
      "Another sum:  {55}\n"
     ]
    }
   ],
   "source": [
    "#another way to solve (using range)\n",
    "another_sum = 0\n",
    "for index in range(len(my_list)):\n",
    "    another_sum+=my_list[index]\n",
    "print(f'Another sum: ',{another_sum})"
   ]
  },
  {
   "cell_type": "code",
   "execution_count": 63,
   "metadata": {},
   "outputs": [
    {
     "name": "stdout",
     "output_type": "stream",
     "text": [
      "\n",
      "Enumerate example\n",
      "(0, 'H')\n",
      "(1, 'e')\n",
      "(2, 'l')\n",
      "(3, 'l')\n",
      "(4, 'o')\n",
      "(5, 'o')\n",
      "(6, 'o')\n"
     ]
    }
   ],
   "source": [
    "#Enumerate\n",
    "print(\"\\nEnumerate example\")\n",
    "for item in enumerate(\"Hellooo\"):\n",
    "    print(item)"
   ]
  },
  {
   "cell_type": "code",
   "execution_count": 64,
   "metadata": {},
   "outputs": [
    {
     "name": "stdout",
     "output_type": "stream",
     "text": [
      "Main purpose -> to get the index from 0\n",
      "0 -> H\n",
      "1 -> e\n",
      "2 -> l\n",
      "3 -> l\n",
      "4 -> o\n",
      "5 -> o\n",
      "6 -> o\n"
     ]
    }
   ],
   "source": [
    "print(\"Main purpose -> to get the index from 0\")\n",
    "for index, item in enumerate(\"Hellooo\"):\n",
    "    print(f'{index} -> {item}')\n",
    "    "
   ]
  },
  {
   "cell_type": "code",
   "execution_count": 65,
   "metadata": {},
   "outputs": [
    {
     "name": "stdout",
     "output_type": "stream",
     "text": [
      "main purpose -> to get the index from custom index\n",
      "1 -> H\n",
      "2 -> e\n",
      "3 -> l\n",
      "4 -> l\n",
      "5 -> o\n",
      "6 -> o\n",
      "7 -> o\n"
     ]
    }
   ],
   "source": [
    "print(\"main purpose -> to get the index from custom index\")\n",
    "for index, item in enumerate(\"Hellooo\", start=1):\n",
    "    print(f'{index} -> {item}')"
   ]
  },
  {
   "cell_type": "code",
   "execution_count": 68,
   "metadata": {},
   "outputs": [
    {
     "name": "stdout",
     "output_type": "stream",
     "text": [
      "\n",
      "Checking while loops\n",
      "i:  0\n",
      "i:  1\n",
      "done with all the work\n"
     ]
    }
   ],
   "source": [
    "#while loops\n",
    "print(\"\\nChecking while loops\")\n",
    "i=0\n",
    "while i<2:\n",
    "    print(\"i: \",i)\n",
    "    i+=1\n",
    "else:\n",
    "    print(\"done with all the work\")"
   ]
  },
  {
   "cell_type": "code",
   "execution_count": 69,
   "metadata": {},
   "outputs": [
    {
     "name": "stdout",
     "output_type": "stream",
     "text": [
      "\n",
      "i :  0\n"
     ]
    }
   ],
   "source": [
    "i=0\n",
    "while i<50:\n",
    "    print(\"\\ni : \",i)\n",
    "    break\n",
    "else:\n",
    "    print(\"done with all the work\")"
   ]
  },
  {
   "cell_type": "code",
   "execution_count": 70,
   "metadata": {},
   "outputs": [],
   "source": [
    "while True:\n",
    "    response = input(\"chat 'bye' to exit :\")\n",
    "    if(\"bye\" in response.split()):\n",
    "        break"
   ]
  },
  {
   "cell_type": "code",
   "execution_count": 71,
   "metadata": {},
   "outputs": [
    {
     "name": "stdout",
     "output_type": "stream",
     "text": [
      "\n",
      "Skipping no.3\n",
      "1\n",
      "2\n",
      "4\n",
      "5\n"
     ]
    }
   ],
   "source": [
    "print(\"\\nSkipping no.3\")\n",
    "for item in [1,2,3,4,5]:\n",
    "    if(item == 3):\n",
    "        continue\n",
    "    else:\n",
    "        print(item)"
   ]
  },
  {
   "cell_type": "code",
   "execution_count": 72,
   "metadata": {},
   "outputs": [],
   "source": [
    "#pass example\n",
    "\n",
    "for x in [1,2,3]:\n",
    "    pass"
   ]
  },
  {
   "cell_type": "code",
   "execution_count": 77,
   "metadata": {},
   "outputs": [
    {
     "data": {
      "text/plain": [
       "['c', 'd', 'e', 'f', 'g']"
      ]
     },
     "execution_count": 77,
     "metadata": {},
     "output_type": "execute_result"
    }
   ],
   "source": [
    "#iterator \n",
    "it = iter('abcdefg')\n",
    "next(it)\n",
    "next(it)\n",
    "list(it)"
   ]
  }
 ],
 "metadata": {
  "kernelspec": {
   "display_name": "Python 3",
   "language": "python",
   "name": "python3"
  },
  "language_info": {
   "codemirror_mode": {
    "name": "ipython",
    "version": 3
   },
   "file_extension": ".py",
   "mimetype": "text/x-python",
   "name": "python",
   "nbconvert_exporter": "python",
   "pygments_lexer": "ipython3",
   "version": "3.11.0"
  },
  "orig_nbformat": 4,
  "vscode": {
   "interpreter": {
    "hash": "7677e4661468436987f033e54db47562858cd7b875bd3612ac1f52d3b0311de2"
   }
  }
 },
 "nbformat": 4,
 "nbformat_minor": 2
}
