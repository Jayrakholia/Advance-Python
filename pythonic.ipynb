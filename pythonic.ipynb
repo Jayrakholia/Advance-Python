{
 "cells": [
  {
   "cell_type": "code",
   "execution_count": 1,
   "metadata": {},
   "outputs": [
    {
     "name": "stdout",
     "output_type": "stream",
     "text": [
      "same\n"
     ]
    }
   ],
   "source": [
    "#faster and easier to read\n",
    "a,b = 5,5\n",
    "print('same') if a==b==5 else print('different')"
   ]
  },
  {
   "cell_type": "code",
   "execution_count": 2,
   "metadata": {},
   "outputs": [
    {
     "name": "stdout",
     "output_type": "stream",
     "text": [
      "0\n",
      "1\n",
      "2\n",
      "3\n",
      "4\n",
      "5\n"
     ]
    }
   ],
   "source": [
    "for i in range(6):\n",
    "    print(i)"
   ]
  },
  {
   "cell_type": "code",
   "execution_count": 3,
   "metadata": {},
   "outputs": [
    {
     "name": "stdout",
     "output_type": "stream",
     "text": [
      "apples\n",
      "bananas\n",
      "grapes\n",
      "tomatos\n"
     ]
    }
   ],
   "source": [
    "fruits = ['apples', 'bananas', 'grapes', 'tomatos']\n",
    "for fruit in fruits:\n",
    "    print(fruit) "
   ]
  },
  {
   "cell_type": "code",
   "execution_count": 4,
   "metadata": {},
   "outputs": [
    {
     "name": "stdout",
     "output_type": "stream",
     "text": [
      "0 -> apples\n",
      "1 -> bananas\n",
      "2 -> grapes\n",
      "3 -> tomatos\n"
     ]
    }
   ],
   "source": [
    "fruits = ['apples', 'bananas', 'grapes', 'tomatos']\n",
    "for index,fruit in enumerate(fruits):\n",
    "    print(f'{index} -> {fruit}')"
   ]
  },
  {
   "cell_type": "code",
   "execution_count": 6,
   "metadata": {},
   "outputs": [
    {
     "name": "stdout",
     "output_type": "stream",
     "text": [
      "apples -> carrot\n",
      "bananas -> spinach\n",
      "grapes -> cucumber\n"
     ]
    }
   ],
   "source": [
    "fruits = ['apples', 'bananas', 'grapes', 'tomatos']\n",
    "vegetables = ['carrot', 'spinach', 'cucumber']\n",
    "\n",
    "for fruit,vegetable in zip(fruits,vegetables):\n",
    "    print(f'{fruit} -> {vegetable}')"
   ]
  },
  {
   "cell_type": "code",
   "execution_count": 8,
   "metadata": {},
   "outputs": [
    {
     "name": "stdout",
     "output_type": "stream",
     "text": [
      "apples -> carrot\n",
      "bananas -> spinach\n",
      "grapes -> cucumber\n",
      "tomatos -> None\n"
     ]
    }
   ],
   "source": [
    "from itertools import zip_longest\n",
    "for fruit,vegetable in zip_longest(fruits,vegetables,fillvalue='None'):\n",
    "    print(f'{fruit} -> {vegetable}')"
   ]
  },
  {
   "cell_type": "code",
   "execution_count": 13,
   "metadata": {},
   "outputs": [
    {
     "name": "stdout",
     "output_type": "stream",
     "text": [
      "apples\n",
      "bananas\n",
      "ginger\n",
      "grapes\n",
      "tomatos\n",
      "['apples', 'ginger', 'bananas', 'grapes', 'tomatos']\n"
     ]
    }
   ],
   "source": [
    "_fruits = ['apples','ginger' ,'bananas', 'grapes', 'tomatos']\n",
    "for fruit in sorted(_fruits):\n",
    "    print(fruit)\n",
    "print(_fruits)"
   ]
  },
  {
   "cell_type": "code",
   "execution_count": 14,
   "metadata": {},
   "outputs": [
    {
     "name": "stdout",
     "output_type": "stream",
     "text": [
      "tomatos\n",
      "grapes\n",
      "ginger\n",
      "bananas\n",
      "apples\n"
     ]
    }
   ],
   "source": [
    "for fruit in sorted(_fruits,reverse=True):\n",
    "    print(fruit)"
   ]
  },
  {
   "cell_type": "code",
   "execution_count": 15,
   "metadata": {},
   "outputs": [
    {
     "name": "stdout",
     "output_type": "stream",
     "text": [
      "['e', 'z', 'fw', 'asd', 'reg', 'dsgerg', 'rgsdgsdrwd']\n"
     ]
    }
   ],
   "source": [
    "lengths = ['asd', 'dsgerg', 'rgsdgsdrwd', 'e', 'fw', 'reg', 'z']\n",
    "print(sorted(lengths, key=len))"
   ]
  },
  {
   "cell_type": "code",
   "execution_count": 18,
   "metadata": {},
   "outputs": [
    {
     "name": "stdout",
     "output_type": "stream",
     "text": [
      "found\n"
     ]
    }
   ],
   "source": [
    "users = ['parth', 'helly', 'nidhi', 'bhoomit']\n",
    "find_name = 'nidhi'\n",
    "for user in users:\n",
    "    if user == find_name:\n",
    "        print(\"found\")\n",
    "        break\n",
    "else:\n",
    "    print(\"not found\")"
   ]
  },
  {
   "cell_type": "code",
   "execution_count": 22,
   "metadata": {},
   "outputs": [
    {
     "name": "stdout",
     "output_type": "stream",
     "text": [
      "user found! at index : 0\n"
     ]
    }
   ],
   "source": [
    "users = ['parth', 'helly', 'nidhi', 'bhoomit']\n",
    "find_name ='nidhi'\n",
    "print(f'user found! at index : {user.index(find_name)}')if find_name in users else print(\"not found!\")"
   ]
  },
  {
   "cell_type": "code",
   "execution_count": 28,
   "metadata": {},
   "outputs": [
    {
     "name": "stdout",
     "output_type": "stream",
     "text": [
      "{'cat': 'milk', 'dog': 'bone'}\n"
     ]
    }
   ],
   "source": [
    "my_dict = {'cat':'milk', 'bee':'honey', 'dog':'bone'}\n",
    "for key in list(my_dict):\n",
    "    if key.startswith('b'):\n",
    "        del my_dict[key]\n",
    "print(my_dict)"
   ]
  },
  {
   "cell_type": "code",
   "execution_count": 29,
   "metadata": {},
   "outputs": [
    {
     "name": "stdout",
     "output_type": "stream",
     "text": [
      "cat-->milk\n",
      "bee-->honey\n",
      "dog-->bone\n"
     ]
    }
   ],
   "source": [
    "my_dict = {'cat':'milk', 'bee':'honey', 'dog':'bone'}\n",
    "for key,value in my_dict.items():\n",
    "    print(f'{key}-->{value}')"
   ]
  },
  {
   "cell_type": "code",
   "execution_count": 30,
   "metadata": {},
   "outputs": [
    {
     "name": "stdout",
     "output_type": "stream",
     "text": [
      "{'parth': 'apples', 'helly': 'ginger', 'nidhi': 'bananas'}\n"
     ]
    }
   ],
   "source": [
    "users = ['parth', 'helly', 'nidhi', 'bhoomit']\n",
    "fruits = ['apples','ginger' ,'bananas']   \n",
    "my_dict = dict(zip(users,fruits))\n",
    "print(my_dict)"
   ]
  },
  {
   "cell_type": "code",
   "execution_count": 31,
   "metadata": {},
   "outputs": [
    {
     "data": {
      "text/plain": [
       "{'a': 1, 'b': 3, 'c': 4}"
      ]
     },
     "execution_count": 31,
     "metadata": {},
     "output_type": "execute_result"
    }
   ],
   "source": [
    "x = {'a':1, 'b':2}\n",
    "y = {'b':3, 'c':4}\n",
    "z={**x,**y}\n",
    "z"
   ]
  },
  {
   "cell_type": "code",
   "execution_count": 32,
   "metadata": {},
   "outputs": [
    {
     "name": "stdout",
     "output_type": "stream",
     "text": [
      "{5: ['parth', 'helly', 'nidhi', 'uttam', 'shlok'], 7: ['bhoomit'], 4: ['zeal', 'zeel'], 8: ['vaikunth']}\n"
     ]
    }
   ],
   "source": [
    "users = ['parth', 'helly', 'nidhi', 'bhoomit', 'zeal', 'zeel', 'uttam', 'vaikunth', 'shlok']\n",
    "d = {}\n",
    "for user in users:\n",
    "    key=len(user)\n",
    "    d.setdefault(key,[]).append(user)\n",
    "print(d)"
   ]
  },
  {
   "cell_type": "code",
   "execution_count": 33,
   "metadata": {},
   "outputs": [
    {
     "name": "stdout",
     "output_type": "stream",
     "text": [
      "defaultdict(<class 'list'>, {7: ['bhoomit'], 5: ['parth', 'helly', 'nidhi', 'uttam', 'shlok'], 4: ['zeal'], 8: ['vaikunth']})\n"
     ]
    }
   ],
   "source": [
    "users = ['bhoomit', 'parth', 'helly', 'nidhi', 'zeal', 'uttam', 'vaikunth', 'shlok']\n",
    "from collections import defaultdict\n",
    "d= defaultdict(list)\n",
    "for user in users:\n",
    "    key =len(user)\n",
    "    d[key].append(user)\n",
    "print(d)"
   ]
  },
  {
   "cell_type": "code",
   "execution_count": 35,
   "metadata": {},
   "outputs": [
    {
     "data": {
      "text/plain": [
       "{'uno': 'one', 'dos': 'two', 'tres': 'three'}"
      ]
     },
     "execution_count": 35,
     "metadata": {},
     "output_type": "execute_result"
    }
   ],
   "source": [
    "eng_to_span = dict(one='uno', two='dos', three='tres')\n",
    "span_to_eng = {value:key for key,value in eng_to_span.items()}\n",
    "span_to_eng"
   ]
  },
  {
   "cell_type": "code",
   "execution_count": 39,
   "metadata": {},
   "outputs": [
    {
     "name": "stdout",
     "output_type": "stream",
     "text": [
      "defaultdict(<class 'list'>,\n",
      "            {'gratis': ['free'],\n",
      "             'libre': ['free'],\n",
      "             'uno': ['one']})\n"
     ]
    }
   ],
   "source": [
    "e2s = {\n",
    "    'one':['uno'],\n",
    "    'free':['libre','gratis']\n",
    "}\n",
    "from collections import defaultdict\n",
    "from pprint import pprint\n",
    "s2e= defaultdict(list)\n",
    "for key,listt in e2s.items():\n",
    "    for value in listt:\n",
    "        s2e[value].append(key)\n",
    "pprint(s2e,width=40)\n"
   ]
  },
  {
   "cell_type": "code",
   "execution_count": 41,
   "metadata": {},
   "outputs": [],
   "source": [
    "def fun(username, password, is_premium_user):\n",
    "    pass\n",
    "fun(username=\"jay\", password=\"7fjkh\", is_premium_user=True)"
   ]
  },
  {
   "cell_type": "code",
   "execution_count": 45,
   "metadata": {},
   "outputs": [
    {
     "name": "stdout",
     "output_type": "stream",
     "text": [
      "Result(passes=9, fails=1)\n",
      "9\n",
      "9\n"
     ]
    }
   ],
   "source": [
    "#clarify multiple return values with named tuples\n",
    "from collections import namedtuple\n",
    "Class_Result= namedtuple('Result',['passes','fails'])\n",
    "Class_result = Class_Result(9,1)\n",
    "\n",
    "print(Class_result)\n",
    "print(Class_result[0])\n",
    "print(Class_result.passes)"
   ]
  },
  {
   "cell_type": "code",
   "execution_count": 46,
   "metadata": {},
   "outputs": [
    {
     "name": "stdout",
     "output_type": "stream",
     "text": [
      "('hi', 'how', 'are', 'you')\n"
     ]
    }
   ],
   "source": [
    "my_tuple = 'hi','how','are','you'\n",
    "print(my_tuple)\n",
    "p,q,r,s= my_tuple"
   ]
  },
  {
   "cell_type": "code",
   "execution_count": 49,
   "metadata": {},
   "outputs": [
    {
     "name": "stdout",
     "output_type": "stream",
     "text": [
      "0, 1, 1, 2, 3, 5, 8, 13, 21, 34, "
     ]
    }
   ],
   "source": [
    "#-------> updating multiple state variables\n",
    "\n",
    "def fibonacci(len_fib):\n",
    "    x,y=0,1\n",
    "    for i in range(len_fib):\n",
    "        print(x,end=\", \")\n",
    "        x,y=y,x+y\n",
    "fibonacci(10)\n"
   ]
  },
  {
   "cell_type": "code",
   "execution_count": 50,
   "metadata": {},
   "outputs": [
    {
     "name": "stdout",
     "output_type": "stream",
     "text": [
      "hi, how, are, you\n"
     ]
    }
   ],
   "source": [
    "my_list = ['hi','how','are','you']\n",
    "s=', '.join(my_list)\n",
    "print(s)"
   ]
  },
  {
   "cell_type": "code",
   "execution_count": 59,
   "metadata": {},
   "outputs": [
    {
     "name": "stdout",
     "output_type": "stream",
     "text": [
      "deque(['yo!', 'how', 'are'])\n"
     ]
    },
    {
     "data": {
      "text/plain": [
       "['yo!', 'how', 'are']"
      ]
     },
     "execution_count": 59,
     "metadata": {},
     "output_type": "execute_result"
    }
   ],
   "source": [
    "#-------> updating sequences\n",
    "\n",
    "from collections import deque\n",
    "my_new_list =deque(['hi','how','are','you'])\n",
    "del[my_new_list[0]]\n",
    "my_new_list.pop()\n",
    "my_new_list.insert(0,\"yo!\")\n",
    "print(my_new_list)\n",
    "my_new_list[0]\n",
    "[*my_new_list]\n",
    "\n"
   ]
  },
  {
   "cell_type": "code",
   "execution_count": 60,
   "metadata": {},
   "outputs": [],
   "source": [
    "with open('Some_Code.txt') as f:\n",
    "    data = f.read()"
   ]
  },
  {
   "cell_type": "code",
   "execution_count": 61,
   "metadata": {},
   "outputs": [
    {
     "name": "stdout",
     "output_type": "stream",
     "text": [
      "cs1\n",
      "cs2\n"
     ]
    }
   ],
   "source": [
    "import threading\n",
    "lock = threading.Lock()\n",
    "\n",
    "with lock:\n",
    "    print('cs1')\n",
    "    print('cs2')"
   ]
  },
  {
   "cell_type": "code",
   "execution_count": 62,
   "metadata": {},
   "outputs": [
    {
     "name": "stdout",
     "output_type": "stream",
     "text": [
      "sum: [0, 1, 4, 9, 16, 25, 36, 49, 64, 81]\n"
     ]
    }
   ],
   "source": [
    "#sum of squares first 10 numbers\n",
    "print(f'sum: {[x**2 for x in range(10)]}')"
   ]
  },
  {
   "cell_type": "code",
   "execution_count": 63,
   "metadata": {},
   "outputs": [
    {
     "name": "stdout",
     "output_type": "stream",
     "text": [
      "sum :285\n"
     ]
    }
   ],
   "source": [
    "print(f'sum :{sum(x**2 for x in range(10))}')  "
   ]
  },
  {
   "cell_type": "code",
   "execution_count": 67,
   "metadata": {},
   "outputs": [
    {
     "data": {
      "text/plain": [
       "Counter({'list_item': 10})"
      ]
     },
     "execution_count": 67,
     "metadata": {},
     "output_type": "execute_result"
    }
   ],
   "source": [
    "from collections import Counter\n",
    "my_list=[\"list_item\"]*10\n",
    "my_list\n",
    "Counter(my_list)"
   ]
  },
  {
   "cell_type": "code",
   "execution_count": 69,
   "metadata": {},
   "outputs": [
    {
     "data": {
      "text/plain": [
       "True"
      ]
     },
     "execution_count": 69,
     "metadata": {},
     "output_type": "execute_result"
    }
   ],
   "source": [
    "from math import fsum\n",
    "fsum([0.1]*10)\n",
    "fsum([0.1]*10)==1"
   ]
  },
  {
   "cell_type": "code",
   "execution_count": 72,
   "metadata": {},
   "outputs": [
    {
     "name": "stdout",
     "output_type": "stream",
     "text": [
      "defaultdict(<class 'list'>,\n",
      "            {'p': ['parthiv', 'parth'],\n",
      "             'z': ['zeal']})\n"
     ]
    }
   ],
   "source": [
    "#printing\n",
    "from collections import defaultdict\n",
    "from pprint import pprint\n",
    "d=defaultdict(list)\n",
    "d['p'].append('parthiv')\n",
    "d['z'].append('zeal')\n",
    "d['p'].append('parth')\n",
    "pprint(d,width=40)"
   ]
  },
  {
   "cell_type": "code",
   "execution_count": 73,
   "metadata": {},
   "outputs": [
    {
     "name": "stdout",
     "output_type": "stream",
     "text": [
      "[10, 20, 30, 40, 50, 60]\n"
     ]
    }
   ],
   "source": [
    "m=[\n",
    "    [10,20],\n",
    "    [30,40],\n",
    "    [50,60]\n",
    "]\n",
    "\n",
    "print([x for row in m for x in row])"
   ]
  },
  {
   "cell_type": "code",
   "execution_count": 75,
   "metadata": {},
   "outputs": [
    {
     "data": {
      "text/plain": [
       "[('a', 'a'),\n",
       " ('b', 'b'),\n",
       " ('a', 'a'),\n",
       " ('d', 'd'),\n",
       " ('f', 'f'),\n",
       " ('f', 'f'),\n",
       " ('g', 'g'),\n",
       " ('h', 'h'),\n",
       " ('i', 'i')]"
      ]
     },
     "execution_count": 75,
     "metadata": {},
     "output_type": "execute_result"
    }
   ],
   "source": [
    "s = 'abadffghi'\n",
    "list(zip(s,s))"
   ]
  },
  {
   "cell_type": "code",
   "execution_count": 76,
   "metadata": {},
   "outputs": [
    {
     "data": {
      "text/plain": [
       "[('a', 'b', 'a'), ('d', 'f', 'f'), ('g', 'h', 'i')]"
      ]
     },
     "execution_count": 76,
     "metadata": {},
     "output_type": "execute_result"
    }
   ],
   "source": [
    "s = 'abadffghi'\n",
    "it = iter(s)\n",
    "list(zip(it,it,it))"
   ]
  },
  {
   "cell_type": "code",
   "execution_count": 77,
   "metadata": {},
   "outputs": [
    {
     "name": "stdout",
     "output_type": "stream",
     "text": [
      "(<str_ascii_iterator object at 0x0000024EFB93F4C0>,)\n",
      "(<str_ascii_iterator object at 0x0000024EFB93F4C0>,)\n",
      "(<str_ascii_iterator object at 0x0000024EFB93F4C0>,)\n"
     ]
    }
   ],
   "source": [
    "for part in zip([iter('abadffghi')]*3):\n",
    "    print(part)"
   ]
  },
  {
   "cell_type": "code",
   "execution_count": 79,
   "metadata": {},
   "outputs": [
    {
     "data": {
      "text/plain": [
       "{'a': 1, 'b': 2, 'c': 3}"
      ]
     },
     "execution_count": 79,
     "metadata": {},
     "output_type": "execute_result"
    }
   ],
   "source": [
    "di = dict({'a':1,'b':2})\n",
    "di.setdefault('c',3)\n",
    "di"
   ]
  },
  {
   "cell_type": "code",
   "execution_count": 80,
   "metadata": {},
   "outputs": [
    {
     "data": {
      "text/plain": [
       "[('abc',), ('def',), ('ghi',)]"
      ]
     },
     "execution_count": 80,
     "metadata": {},
     "output_type": "execute_result"
    }
   ],
   "source": [
    "list(zip(['abc','def','ghi']))"
   ]
  },
  {
   "cell_type": "code",
   "execution_count": 81,
   "metadata": {},
   "outputs": [
    {
     "data": {
      "text/plain": [
       "[('a', 'd', 'g'), ('b', 'e', 'h'), ('c', 'f', 'i')]"
      ]
     },
     "execution_count": 81,
     "metadata": {},
     "output_type": "execute_result"
    }
   ],
   "source": [
    "list(zip(*['abc','def','ghi']))"
   ]
  },
  {
   "cell_type": "code",
   "execution_count": 94,
   "metadata": {},
   "outputs": [
    {
     "name": "stdout",
     "output_type": "stream",
     "text": [
      "ab\n",
      "df\n",
      "ghi\n"
     ]
    }
   ],
   "source": [
    "for part in zip(*[iter('abadffghi')]*3):\n",
    "    ci = dict()\n",
    "    print(\"\".join([ci.setdefault(char,char)for char in part if char not in ci]))\n"
   ]
  },
  {
   "cell_type": "code",
   "execution_count": 1,
   "metadata": {},
   "outputs": [
    {
     "name": "stdout",
     "output_type": "stream",
     "text": [
      "[1, 2, 1, 2, 1, 3, 5, 6, 7]\n"
     ]
    }
   ],
   "source": [
    "list_1 = [1, 2, 1, 1, 2, 1, 1, 1, 3, 5, 6, 6, 6, 6, 7]\n",
    "output = []\n",
    "for i in list_1:\n",
    "    if i not in output or (i in output and output[-1]!=i):\n",
    "        output.append(i)\n",
    "print(output)\n"
   ]
  },
  {
   "cell_type": "code",
   "execution_count": null,
   "metadata": {},
   "outputs": [],
   "source": []
  }
 ],
 "metadata": {
  "kernelspec": {
   "display_name": "Python 3",
   "language": "python",
   "name": "python3"
  },
  "language_info": {
   "codemirror_mode": {
    "name": "ipython",
    "version": 3
   },
   "file_extension": ".py",
   "mimetype": "text/x-python",
   "name": "python",
   "nbconvert_exporter": "python",
   "pygments_lexer": "ipython3",
   "version": "3.11.0"
  },
  "orig_nbformat": 4,
  "vscode": {
   "interpreter": {
    "hash": "7677e4661468436987f033e54db47562858cd7b875bd3612ac1f52d3b0311de2"
   }
  }
 },
 "nbformat": 4,
 "nbformat_minor": 2
}
