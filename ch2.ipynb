{
 "cells": [
  {
   "attachments": {},
   "cell_type": "markdown",
   "metadata": {},
   "source": [
    "chapter 2 : Working with lists 1\n"
   ]
  },
  {
   "cell_type": "code",
   "execution_count": 2,
   "metadata": {},
   "outputs": [
    {
     "name": "stdout",
     "output_type": "stream",
     "text": [
      "Working with lists\n",
      "[1, 2, 3]\n",
      "['a', 'b', 'c']\n",
      "[1, 2.5, 'c', True]\n"
     ]
    }
   ],
   "source": [
    "#Working with lists\n",
    "print('Working with lists')\n",
    "li = [1,2,3]\n",
    "li2 = ['a','b','c']\n",
    "li3 = [1,2.5,'c',True]\n",
    "print(li)\n",
    "print(li2)\n",
    "print(li3)"
   ]
  },
  {
   "cell_type": "code",
   "execution_count": 3,
   "metadata": {},
   "outputs": [
    {
     "name": "stdout",
     "output_type": "stream",
     "text": [
      "\n",
      "New list\n",
      "[1, 2.5, 3]\n"
     ]
    }
   ],
   "source": [
    "#Lists is mutable\n",
    "li[1] = 2.5\n",
    "print(\"\\nNew list\")\n",
    "print(li)"
   ]
  },
  {
   "cell_type": "code",
   "execution_count": 7,
   "metadata": {},
   "outputs": [
    {
     "name": "stdout",
     "output_type": "stream",
     "text": [
      "\n",
      " List copying problem\n",
      "['Orange', 'banana', 'carrot']\n",
      "['Orange', 'banana', 'carrot']\n",
      "\n",
      "correct way is by slicing the list\n",
      "['apple', 'banana', 'carrot']\n",
      "['orange', 'banana', 'carrot']\n"
     ]
    }
   ],
   "source": [
    "#Copyinf list problem , it can only done through list slicing\n",
    "print(\"\\n List copying problem\")\n",
    "cart = ['apple','banana','carrot']\n",
    "new_cart = cart\n",
    "new_cart[0] = 'Orange'\n",
    "print(cart)\n",
    "print(new_cart)\n",
    "\n",
    "print(\"\\ncorrect way is by slicing the list\")\n",
    "cart = ['apple','banana','carrot']\n",
    "new_cart2 = cart[:]\n",
    "#new_cart2 = cart.copy() # inbuilt list method\n",
    "new_cart2[0] = 'orange'\n",
    "print(cart)\n",
    "print(new_cart2)\n"
   ]
  },
  {
   "cell_type": "code",
   "execution_count": 30,
   "metadata": {},
   "outputs": [
    {
     "name": "stdout",
     "output_type": "stream",
     "text": [
      "\n",
      "Appending the list problem\n",
      "[1, 2, 3, 4, 5, 100]\n",
      "None\n"
     ]
    }
   ],
   "source": [
    "#appending to a list returns no valueerror\n",
    "print(\"\\nAppending the list problem\")\n",
    "eg = [1,2,3,4,5]\n",
    "eg2 = eg.append(100)\n",
    "print(eg)\n",
    "print(eg2)"
   ]
  },
  {
   "cell_type": "code",
   "execution_count": 31,
   "metadata": {},
   "outputs": [
    {
     "name": "stdout",
     "output_type": "stream",
     "text": [
      "[1, 2, 3, 4, 5, 100]\n"
     ]
    }
   ],
   "source": [
    "eg = [1,2,3,4,5]\n",
    "eg.append(100)\n",
    "eg2 = eg[:]\n",
    "print(eg2)"
   ]
  },
  {
   "cell_type": "code",
   "execution_count": 32,
   "metadata": {},
   "outputs": [
    {
     "name": "stdout",
     "output_type": "stream",
     "text": [
      "[1, 2, 3, 4, 5, 100, [100, 200]]\n"
     ]
    }
   ],
   "source": [
    "eg.append([100,200])\n",
    "print(eg)"
   ]
  },
  {
   "cell_type": "code",
   "execution_count": 33,
   "metadata": {},
   "outputs": [
    {
     "name": "stdout",
     "output_type": "stream",
     "text": [
      "[1, 2, 3, 4, 5, 100, [100, 200], 200, 201]\n"
     ]
    }
   ],
   "source": [
    "eg.extend([200,201])\n",
    "print(eg)"
   ]
  },
  {
   "cell_type": "code",
   "execution_count": 34,
   "metadata": {},
   "outputs": [
    {
     "name": "stdout",
     "output_type": "stream",
     "text": [
      "[1, 2, 3, 4, 5, 100, [100, 200], 200]\n",
      "[2, 3, 4, 5, 100, [100, 200], 200]\n",
      "[2, 3, 5, 100, [100, 200], 200]\n",
      "pop value 4\n",
      "[2, 3, 100, [100, 200], 200]\n",
      "[]\n"
     ]
    }
   ],
   "source": [
    "#remove and pop\n",
    "eg.pop()\n",
    "print(eg)\n",
    "eg.pop(0)\n",
    "print(eg)\n",
    "p = eg.pop(2)\n",
    "print(eg)\n",
    "print(\"pop value\",p)\n",
    "eg.remove(5)\n",
    "print(eg)\n",
    "eg.clear()\n",
    "print(eg)"
   ]
  },
  {
   "cell_type": "code",
   "execution_count": 35,
   "metadata": {},
   "outputs": [
    {
     "name": "stdout",
     "output_type": "stream",
     "text": [
      "index of 'd' is : 3\n",
      "count of 'd' is :  2\n",
      "Is 'd' present in the list 'eg' :  True\n",
      "Is 'a' present in 'hello world'  False\n"
     ]
    }
   ],
   "source": [
    "eg = ['a','b','c','d','e','d']\n",
    "print(\"index of 'd' is :\",str(eg.index('d')))\n",
    "print(\"count of 'd' is : \",str(eg.count('d')))\n",
    "print(\"Is 'd' present in the list 'eg' : \",'d' in eg)\n",
    "print(\"Is 'a' present in 'hello world' \",'a' in 'hello world')"
   ]
  },
  {
   "cell_type": "code",
   "execution_count": 36,
   "metadata": {},
   "outputs": [
    {
     "name": "stdout",
     "output_type": "stream",
     "text": [
      "\n",
      "Sorting by 2 ways\n",
      "sort is inplace :  None\n",
      "['a', 'p', 's', 'v', 'z']\n",
      "sort is not inplace:  ['a', 'p', 's', 'v', 'z']\n"
     ]
    }
   ],
   "source": [
    "#Sorting the lists\n",
    "print(\"\\nSorting by 2 ways\")\n",
    "eg = ['z', 'a', 'v', 's', 'p']\n",
    "print(\"sort is inplace : \", eg.sort())\n",
    "print(eg)\n",
    "\n",
    "eg2 = ['z', 'a', 'v', 's', 'p']\n",
    "print(\"sort is not inplace: \",sorted(eg2))"
   ]
  },
  {
   "cell_type": "code",
   "execution_count": 37,
   "metadata": {},
   "outputs": [
    {
     "name": "stdout",
     "output_type": "stream",
     "text": [
      "\\Reversing the list\n",
      "Original :  ['z', 'a', 'v', 's', 'p']\n",
      "None\n",
      "['p', 's', 'v', 'a', 'z']\n"
     ]
    }
   ],
   "source": [
    "print(\"\\Reversing the list\")\n",
    "print(\"Original : \",eg2)\n",
    "print(eg2.reverse())\n",
    "print(eg2)"
   ]
  },
  {
   "cell_type": "code",
   "execution_count": 42,
   "metadata": {},
   "outputs": [
    {
     "data": {
      "text/plain": [
       "[4, 7, 9, 12, 33, 76, 99]"
      ]
     },
     "execution_count": 42,
     "metadata": {},
     "output_type": "execute_result"
    }
   ],
   "source": [
    "#better approach for sorting long sorted sublists is using merge\n",
    "from heapq import merge\n",
    "a = [1,4,7] \n",
    "b = [4,9,12] \n",
    "c = [33,76,99]\n",
    "it = merge(a,b,c)\n",
    "next(it)\n",
    "next(it)\n",
    "list(it)\n"
   ]
  },
  {
   "cell_type": "code",
   "execution_count": 53,
   "metadata": {},
   "outputs": [
    {
     "data": {
      "text/plain": [
       "['c', 'e']"
      ]
     },
     "execution_count": 53,
     "metadata": {},
     "output_type": "execute_result"
    }
   ],
   "source": [
    "#islice\n",
    "from itertools import islice\n",
    "islice('abcdef',3)\n",
    "list(islice('abcdef',3))\n",
    "list(islice('abcdef',None,3))\n",
    "list(islice('abcdef',2,4))\n",
    "list(islice('abcdef',2,6,2))"
   ]
  },
  {
   "cell_type": "code",
   "execution_count": 56,
   "metadata": {},
   "outputs": [
    {
     "data": {
      "text/plain": [
       "[7, 9, 12, 33, 76, 99]"
      ]
     },
     "execution_count": 56,
     "metadata": {},
     "output_type": "execute_result"
    }
   ],
   "source": [
    "a = [1,4,7] \n",
    "b = [4,9,12] \n",
    "c = [33,76,99]\n",
    "it = merge(a,b,c)\n",
    "list(islice(it,3))\n",
    "list(islice(it,None))\n"
   ]
  },
  {
   "cell_type": "code",
   "execution_count": 64,
   "metadata": {},
   "outputs": [
    {
     "data": {
      "text/plain": [
       "(1501385234544, 1501363039792)"
      ]
     },
     "execution_count": 64,
     "metadata": {},
     "output_type": "execute_result"
    }
   ],
   "source": [
    "#intern values\n",
    "#assign same memory location\n",
    "s = 'he'\n",
    "t = 'llo'\n",
    "u = s+t\n",
    "w = 'hello'\n",
    "\n",
    "u,w\n",
    "u==w\n",
    "id(u),id(w)\n",
    "u is w\n",
    "id(u),id(w)"
   ]
  },
  {
   "cell_type": "code",
   "execution_count": 63,
   "metadata": {},
   "outputs": [
    {
     "data": {
      "text/plain": [
       "(1501363039792, 1501363039792)"
      ]
     },
     "execution_count": 63,
     "metadata": {},
     "output_type": "execute_result"
    }
   ],
   "source": [
    "import sys\n",
    "u = sys.intern('hello')\n",
    "v  = sys.intern(s+t)\n",
    "u is v\n",
    "id(u),id(v)\n"
   ]
  }
 ],
 "metadata": {
  "kernelspec": {
   "display_name": "Python 3",
   "language": "python",
   "name": "python3"
  },
  "language_info": {
   "codemirror_mode": {
    "name": "ipython",
    "version": 3
   },
   "file_extension": ".py",
   "mimetype": "text/x-python",
   "name": "python",
   "nbconvert_exporter": "python",
   "pygments_lexer": "ipython3",
   "version": "3.11.0"
  },
  "orig_nbformat": 4,
  "vscode": {
   "interpreter": {
    "hash": "7677e4661468436987f033e54db47562858cd7b875bd3612ac1f52d3b0311de2"
   }
  }
 },
 "nbformat": 4,
 "nbformat_minor": 2
}
