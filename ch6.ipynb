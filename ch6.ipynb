{
 "cells": [
  {
   "attachments": {},
   "cell_type": "markdown",
   "metadata": {},
   "source": [
    "Chap 6 : Sets"
   ]
  },
  {
   "cell_type": "code",
   "execution_count": 1,
   "metadata": {},
   "outputs": [
    {
     "name": "stdout",
     "output_type": "stream",
     "text": [
      "my_set :  {1, 2, 3, 4, 5}\n"
     ]
    }
   ],
   "source": [
    "my_set = {1,2,3,4,5}\n",
    "print(\"my_set : \", my_set)"
   ]
  },
  {
   "cell_type": "code",
   "execution_count": 2,
   "metadata": {},
   "outputs": [
    {
     "name": "stdout",
     "output_type": "stream",
     "text": [
      "my_set :  {1, 2, 3, 4, 5}\n"
     ]
    }
   ],
   "source": [
    "my_set = {1,5,3,4,5,5,2,5,5,5}\n",
    "print(\"my_set : \", my_set)"
   ]
  },
  {
   "cell_type": "code",
   "execution_count": 7,
   "metadata": {},
   "outputs": [
    {
     "name": "stdout",
     "output_type": "stream",
     "text": [
      "\n",
      "List converted to set : {1, 2, 4, 5, 9}\n"
     ]
    }
   ],
   "source": [
    "my_list = [9,4,5,4,4,2,2,1]\n",
    "my_list_set = set(my_list)\n",
    "\n",
    "print(\"\\nList converted to set :\", my_list_set)"
   ]
  },
  {
   "cell_type": "code",
   "execution_count": 8,
   "metadata": {},
   "outputs": [
    {
     "name": "stdout",
     "output_type": "stream",
     "text": [
      "element: 1 : count : 3\n",
      "element: 5 : count : 2\n",
      "element: 3 : count : 1\n",
      "element: 1 : count : 3\n",
      "element: 6 : count : 4\n",
      "element: 9 : count : 2\n",
      "element: 6 : count : 4\n",
      "element: 4 : count : 4\n",
      "element: 6 : count : 4\n",
      "element: 2 : count : 3\n",
      "element: 5 : count : 2\n",
      "element: 8 : count : 2\n",
      "element: 4 : count : 4\n",
      "element: 2 : count : 3\n",
      "element: 4 : count : 4\n",
      "element: 7 : count : 1\n",
      "element: 8 : count : 2\n",
      "element: 9 : count : 2\n",
      "element: 4 : count : 4\n",
      "element: 2 : count : 3\n",
      "element: 1 : count : 3\n",
      "element: 6 : count : 4\n"
     ]
    }
   ],
   "source": [
    "exe_list = [1,5,3,1,6,9,6,4,6,2,5,8,4,2,4,7,8,9,4,2,1,6]\n",
    "for item in exe_list:\n",
    "    print(f'element: {item} : count : {exe_list.count(item)}')"
   ]
  },
  {
   "cell_type": "code",
   "execution_count": 9,
   "metadata": {},
   "outputs": [
    {
     "name": "stdout",
     "output_type": "stream",
     "text": [
      "element : 1 : count 3\n",
      "element : 2 : count 3\n",
      "element : 3 : count 1\n",
      "element : 4 : count 4\n",
      "element : 5 : count 2\n",
      "element : 6 : count 4\n",
      "element : 7 : count 1\n",
      "element : 8 : count 2\n",
      "element : 9 : count 2\n"
     ]
    }
   ],
   "source": [
    "exe_list = [1,5,3,1,6,9,6,4,6,2,5,8,4,2,4,7,8,9,4,2,1,6]\n",
    "exe_set_list = list(set(exe_list))\n",
    "for item in exe_set_list:\n",
    "    print(f'element : {item} : count {exe_list.count(item)}')\n"
   ]
  },
  {
   "cell_type": "code",
   "execution_count": 11,
   "metadata": {},
   "outputs": [
    {
     "name": "stdout",
     "output_type": "stream",
     "text": [
      "\n",
      "Original(my_set) after clearing :  set()\n",
      "new(new_set) after clearing :  {1, 2, 4, 5, 9}\n"
     ]
    }
   ],
   "source": [
    "my_set = {9,4,5,4,4,2,2,1}\n",
    "new_set = my_set.copy()\n",
    "my_set.clear()\n",
    "print(\"\\nOriginal(my_set) after clearing : \", my_set)\n",
    "print(\"new(new_set) after clearing : \", new_set)\n"
   ]
  },
  {
   "cell_type": "code",
   "execution_count": 18,
   "metadata": {},
   "outputs": [
    {
     "name": "stdout",
     "output_type": "stream",
     "text": [
      "Difference : None\n",
      "Difference : {1, 2, 3}\n",
      "my_set :  {1, 2, 3}\n",
      "Discard :  None\n",
      "my_set after discarding '5' :  {2, 3}\n"
     ]
    }
   ],
   "source": [
    "my_set = {1,2,3,4,5}\n",
    "your_set = {4,5,6,7,8,9,10}\n",
    "print(\"Difference :\", my_set.difference_update(your_set))\n",
    "print(\"Difference :\", my_set.difference(your_set))\n",
    "print(\"my_set : \",my_set)\n",
    "print(\"Discard : \", my_set.discard(1))\n",
    "print(\"my_set after discarding '5' : \",my_set)"
   ]
  },
  {
   "cell_type": "code",
   "execution_count": 20,
   "metadata": {},
   "outputs": [
    {
     "name": "stdout",
     "output_type": "stream",
     "text": [
      "Intersection : {4, 5}\n",
      "Intersection(another method) :  {4, 5}\n"
     ]
    }
   ],
   "source": [
    "my_set = {1,2,3,4,5}\n",
    "your_set = {4,5,6,7,8,9,10}\n",
    "print(\"Intersection :\", my_set.intersection(your_set)) \n",
    "print(\"Intersection(another method) : \", my_set&your_set)"
   ]
  },
  {
   "cell_type": "code",
   "execution_count": 21,
   "metadata": {},
   "outputs": [
    {
     "name": "stdout",
     "output_type": "stream",
     "text": [
      "\n",
      "Disjoint(is there anything common. are they not overlapped?) :  False\n"
     ]
    }
   ],
   "source": [
    "print(\"\\nDisjoint(is there anything common. are they not overlapped?) : \", my_set.isdisjoint(your_set))"
   ]
  },
  {
   "cell_type": "code",
   "execution_count": 22,
   "metadata": {},
   "outputs": [
    {
     "name": "stdout",
     "output_type": "stream",
     "text": [
      "Disjoint(is there anything common. are they not overlapped?) :  True\n",
      "True: They are not overlapped(they are dis-joint)\n"
     ]
    }
   ],
   "source": [
    "my_set = {1,2,3}\n",
    "your_set = {4,5,6,7,8,9,10}\n",
    "print(\"Disjoint(is there anything common. are they not overlapped?) : \", my_set.isdisjoint(your_set))\n",
    "print(\"True: They are not overlapped(they are dis-joint)\")\n"
   ]
  },
  {
   "cell_type": "code",
   "execution_count": 23,
   "metadata": {},
   "outputs": [
    {
     "name": "stdout",
     "output_type": "stream",
     "text": [
      "\n",
      "Union :  {1, 2, 3, 4, 5, 6, 7, 8, 9, 10}\n",
      "Union(another method) :  {1, 2, 3, 4, 5, 6, 7, 8, 9, 10}\n"
     ]
    }
   ],
   "source": [
    "print(\"\\nUnion : \", my_set.union(your_set))\n",
    "print(\"Union(another method) : \", my_set|your_set)"
   ]
  },
  {
   "cell_type": "code",
   "execution_count": 24,
   "metadata": {},
   "outputs": [
    {
     "name": "stdout",
     "output_type": "stream",
     "text": [
      "\n",
      "is x subset of y? : True\n",
      "is x superset of y? : False\n",
      "is y superset of x? : True\n"
     ]
    }
   ],
   "source": [
    "my_set = {4,5}\n",
    "your_set = {4,5,6,7,8,9,10}\n",
    "print(\"\\nis x subset of y? :\", my_set.issubset(your_set))\n",
    "print(\"is x superset of y? :\", my_set.issuperset(your_set))\n",
    "print(\"is y superset of x? :\", your_set.issuperset(my_set))\n"
   ]
  },
  {
   "cell_type": "code",
   "execution_count": 25,
   "metadata": {},
   "outputs": [
    {
     "name": "stdout",
     "output_type": "stream",
     "text": [
      "Reversing again : ['a', 'b', 'c', 'd', 'd', 'e', 'x']\n",
      "Original list : ['x', 'e', 'd', 'd', 'c', 'b', 'a']\n"
     ]
    }
   ],
   "source": [
    "basket = ['a','x','b','c','d','e','d']\n",
    "basket.sort()\n",
    "basket.reverse()\n",
    "print(\"Reversing again :\", basket[::-1])\n",
    "print(\"Original list :\",basket)"
   ]
  },
  {
   "cell_type": "code",
   "execution_count": 27,
   "metadata": {},
   "outputs": [
    {
     "name": "stdout",
     "output_type": "stream",
     "text": [
      "\n",
      "Range\n",
      "range(1, 100)\n",
      "\n",
      " [0, 1, 2, 3, 4, 5, 6, 7, 8, 9, 10, 11, 12, 13, 14, 15, 16, 17, 18, 19, 20, 21, 22, 23, 24, 25, 26, 27, 28, 29, 30, 31, 32, 33, 34, 35, 36, 37, 38, 39, 40, 41, 42, 43, 44, 45, 46, 47, 48, 49, 50, 51, 52, 53, 54, 55, 56, 57, 58, 59, 60, 61, 62, 63, 64, 65, 66, 67, 68, 69, 70, 71, 72, 73, 74, 75, 76, 77, 78, 79, 80, 81, 82, 83, 84, 85, 86, 87, 88, 89, 90, 91, 92, 93, 94, 95, 96, 97, 98, 99]\n"
     ]
    }
   ],
   "source": [
    "print(\"\\nRange\")\n",
    "print(range(1,100))\n",
    "print(\"\\n\", list(range(100)))"
   ]
  }
 ],
 "metadata": {
  "kernelspec": {
   "display_name": "Python 3",
   "language": "python",
   "name": "python3"
  },
  "language_info": {
   "codemirror_mode": {
    "name": "ipython",
    "version": 3
   },
   "file_extension": ".py",
   "mimetype": "text/x-python",
   "name": "python",
   "nbconvert_exporter": "python",
   "pygments_lexer": "ipython3",
   "version": "3.11.0 (main, Oct 24 2022, 18:26:48) [MSC v.1933 64 bit (AMD64)]"
  },
  "orig_nbformat": 4,
  "vscode": {
   "interpreter": {
    "hash": "7677e4661468436987f033e54db47562858cd7b875bd3612ac1f52d3b0311de2"
   }
  }
 },
 "nbformat": 4,
 "nbformat_minor": 2
}
