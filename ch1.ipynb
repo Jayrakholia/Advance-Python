{
 "cells": [
  {
   "attachments": {},
   "cell_type": "markdown",
   "metadata": {},
   "source": [
    "practice sessions: \n",
    "Basic Math Operations"
   ]
  },
  {
   "cell_type": "code",
   "execution_count": 1,
   "metadata": {},
   "outputs": [
    {
     "name": "stdout",
     "output_type": "stream",
     "text": [
      "5\n",
      "-1\n",
      "6\n",
      "0.6666666666666666\n",
      "2\n",
      "8\n",
      "0\n"
     ]
    }
   ],
   "source": [
    "print(2+3)\n",
    "print(2-3)\n",
    "print(2*3)\n",
    "print(2/3)\n",
    "print(2%3)\n",
    "print(2**3)\n",
    "print(2//3)"
   ]
  },
  {
   "cell_type": "code",
   "execution_count": 2,
   "metadata": {},
   "outputs": [
    {
     "name": "stdout",
     "output_type": "stream",
     "text": [
      "\n",
      "Checking the data type\n",
      "<class 'float'>\n"
     ]
    }
   ],
   "source": [
    "print(\"\\nChecking the data type\")\n",
    "print(type(2/3))"
   ]
  },
  {
   "cell_type": "code",
   "execution_count": 6,
   "metadata": {},
   "outputs": [
    {
     "name": "stdout",
     "output_type": "stream",
     "text": [
      "\n",
      " Some math functions\n",
      "4\n",
      "10\n"
     ]
    }
   ],
   "source": [
    "print(\"\\n Some math functions\")\n",
    "print(round(3.5))\n",
    "print(abs(-10))"
   ]
  },
  {
   "cell_type": "code",
   "execution_count": 1,
   "metadata": {},
   "outputs": [
    {
     "name": "stdout",
     "output_type": "stream",
     "text": [
      "14\n",
      "13\n"
     ]
    }
   ],
   "source": [
    "#Operator precedence\n",
    "# ()\n",
    "# **\n",
    "# *,/\n",
    "# +,-\n",
    "print( 2+3*4)\n",
    "print((2+3)+2**3)"
   ]
  },
  {
   "cell_type": "code",
   "execution_count": 6,
   "metadata": {},
   "outputs": [
    {
     "name": "stdout",
     "output_type": "stream",
     "text": [
      "\n",
      "Converting to the binary representation and back\n",
      "0b101\n",
      "5\n"
     ]
    }
   ],
   "source": [
    "# Binary\n",
    "print(\"\\nConverting to the binary representation and back\")\n",
    "print(bin(5))\n",
    "print(int('0b101',2))"
   ]
  },
  {
   "cell_type": "code",
   "execution_count": 7,
   "metadata": {},
   "outputs": [
    {
     "name": "stdout",
     "output_type": "stream",
     "text": [
      "\n",
      "Using variables\n",
      "10\n"
     ]
    }
   ],
   "source": [
    "#Variables --> also called binding values\n",
    "#Use sanke_case convention\n",
    "print(\"\\nUsing variables\")\n",
    "normal_variable = 10\n",
    "print(normal_variable)"
   ]
  },
  {
   "cell_type": "code",
   "execution_count": 9,
   "metadata": {},
   "outputs": [
    {
     "name": "stdout",
     "output_type": "stream",
     "text": [
      "\n",
      " a:  1 , b:  2\n"
     ]
    }
   ],
   "source": [
    "#Another effective way to assign variables\n",
    "a,b,c = 1,2,3\n",
    "print(\"\\n a: \",a, \", b: \",b)"
   ]
  },
  {
   "cell_type": "code",
   "execution_count": 10,
   "metadata": {},
   "outputs": [
    {
     "name": "stdout",
     "output_type": "stream",
     "text": [
      "\n",
      "'_' in the beginning generally signifies it's a private variable in python\n",
      "20\n"
     ]
    }
   ],
   "source": [
    "print(\"\\n'_' in the beginning generally signifies it's a private variable in python\")\n",
    "_normal_variable = 20\n",
    "print(_normal_variable)"
   ]
  },
  {
   "cell_type": "code",
   "execution_count": 11,
   "metadata": {},
   "outputs": [
    {
     "name": "stdout",
     "output_type": "stream",
     "text": [
      "\n",
      "__variable is known as a dundar in python\n"
     ]
    }
   ],
   "source": [
    "#Constants\n",
    "PI=3.14\n",
    "print(\"\\n__variable is known as a dundar in python\")\n"
   ]
  },
  {
   "cell_type": "code",
   "execution_count": 13,
   "metadata": {},
   "outputs": [
    {
     "name": "stdout",
     "output_type": "stream",
     "text": [
      "40.0\n"
     ]
    }
   ],
   "source": [
    "#Expression and Statements\n",
    "iq=200\n",
    "user_age = iq/5\n",
    "print(user_age)"
   ]
  },
  {
   "cell_type": "code",
   "execution_count": 14,
   "metadata": {},
   "outputs": [
    {
     "name": "stdout",
     "output_type": "stream",
     "text": [
      "\n",
      "Augmented operation value :  7\n"
     ]
    }
   ],
   "source": [
    "#Augmented assignment operators\n",
    "some = 5\n",
    "some +=2\n",
    "print(\"\\nAugmented operation value : \",some)"
   ]
  },
  {
   "cell_type": "code",
   "execution_count": 15,
   "metadata": {},
   "outputs": [
    {
     "name": "stdout",
     "output_type": "stream",
     "text": [
      "\n",
      "This is the example of a long string\n",
      "Im Jay\n",
      "0 0\n",
      " _\n",
      "\n"
     ]
    }
   ],
   "source": [
    "#Long string as doc string\n",
    "long_str = '''Im Jay\n",
    "0 0\n",
    " _\n",
    "'''\n",
    "print(\"\\nThis is the example of a long string\")\n",
    "print(long_str)\n",
    "#used to print paragraphs,etc"
   ]
  },
  {
   "cell_type": "code",
   "execution_count": 17,
   "metadata": {},
   "outputs": [
    {
     "name": "stdout",
     "output_type": "stream",
     "text": [
      "\n",
      "Trying out the esacpe charaters\n",
      "It's a beautiful day\n",
      "\tIts a beautiful day\n"
     ]
    }
   ],
   "source": [
    "#Escape characters\n",
    "print(\"\\nTrying out the esacpe charaters\")\n",
    "print(\"It\\'s a beautiful day\")\n",
    "print(\"\\tIts a beautiful day\")"
   ]
  },
  {
   "cell_type": "code",
   "execution_count": 20,
   "metadata": {},
   "outputs": [
    {
     "name": "stdout",
     "output_type": "stream",
     "text": [
      "\n",
      "Trying out formatted strings.\n",
      "welcome jay. You are 24 years old.\n",
      "Welcome  jay . You are  24  years old.\n",
      "Welcome jay. You are 24 years old.\n",
      "Welcome jay. You are 24 years old.\n",
      "Welcome jay. You are 24 years old.\n",
      "Welcome J. You are 25 years old.\n"
     ]
    }
   ],
   "source": [
    "#Formatted String\n",
    "print(\"\\nTrying out formatted strings.\")\n",
    "name = 'jay'\n",
    "age = 24\n",
    "print(\"welcome \"+ name + \". You are \"+ str(age) + \" years old.\")\n",
    "print(\"Welcome \", name , \". You are \", str(age) , \" years old.\" )\n",
    "\n",
    "print(f\"Welcome {name}. You are {age} years old.\")\n",
    "print(\"Welcome {}. You are {} years old.\".format(name,age))\n",
    "print(\"Welcome {0}. You are {1} years old.\".format(name,age))\n",
    "print(\"Welcome {_name}. You are {_age} years old.\".format(_name=\"J\",_age=25))"
   ]
  },
  {
   "cell_type": "code",
   "execution_count": 21,
   "metadata": {},
   "outputs": [
    {
     "name": "stdout",
     "output_type": "stream",
     "text": [
      "\n",
      "Manipulationg String\n",
      "0\n",
      "01234567\n",
      "01234\n",
      "0123\n",
      "01234567\n",
      "0246\n",
      "7\n",
      "6\n",
      "76543210\n"
     ]
    }
   ],
   "source": [
    "#string manipulation\n",
    "#string[start:stop:stepover]\n",
    "print(\"\\nManipulationg String\")\n",
    "strin = '01234567'\n",
    "print(strin[0])\n",
    "print(strin[0:])\n",
    "print(strin[:5])\n",
    "print(strin[0:4])\n",
    "print(strin[0:8:1])\n",
    "print(strin[0:8:2])\n",
    "print(strin[-1])\n",
    "print(strin[-2])\n",
    "print(strin[::-1])\n"
   ]
  },
  {
   "cell_type": "code",
   "execution_count": 22,
   "metadata": {},
   "outputs": [
    {
     "name": "stdout",
     "output_type": "stream",
     "text": [
      "012345678\n"
     ]
    }
   ],
   "source": [
    "#Immuntability\n",
    "strin = '01234567'\n",
    "strin = strin+ '8'\n",
    "print(strin)"
   ]
  },
  {
   "cell_type": "code",
   "execution_count": 23,
   "metadata": {},
   "outputs": [
    {
     "name": "stdout",
     "output_type": "stream",
     "text": [
      "\n",
      "Working with booleans\n",
      "False\n",
      "True\n",
      "True\n"
     ]
    }
   ],
   "source": [
    "#Boolean\n",
    "print(\"\\nWorking with booleans\")\n",
    "print(bool(0))\n",
    "print(bool('True'))\n",
    "print(bool(True))\n"
   ]
  },
  {
   "cell_type": "code",
   "execution_count": 26,
   "metadata": {},
   "outputs": [
    {
     "data": {
      "text/plain": [
       "'hello'"
      ]
     },
     "execution_count": 26,
     "metadata": {},
     "output_type": "execute_result"
    }
   ],
   "source": [
    "True and True\n",
    "True and False\n",
    "False and True\n",
    "bool('hello')\n",
    "bool('')\n",
    "'' and ('hello')\n",
    "'asd' and 'hello'\n",
    "\n"
   ]
  },
  {
   "cell_type": "code",
   "execution_count": 3,
   "metadata": {},
   "outputs": [
    {
     "name": "stdout",
     "output_type": "stream",
     "text": [
      "your current age is 18\n"
     ]
    }
   ],
   "source": [
    "#most common type conversion error\n",
    "year = int(input(\"\\nEnter your birth year :\"))\n",
    "age = 2020 - int(year)# this is the part where error occurs\n",
    "print(f\"your current age is {age}\")"
   ]
  },
  {
   "cell_type": "code",
   "execution_count": 4,
   "metadata": {},
   "outputs": [
    {
     "name": "stdout",
     "output_type": "stream",
     "text": [
      "Welcome Jay, your password : ******* is 7 letters long \n"
     ]
    }
   ],
   "source": [
    "#Exercise password asterisk\n",
    "u_name = input(\"\\nEnter the username :\")\n",
    "password = input(\"Enter the password :\")\n",
    "\n",
    "print(f\"Welcome {u_name}, your password : {len(password)* '*'} is {len(password)} letters long \")"
   ]
  }
 ],
 "metadata": {
  "kernelspec": {
   "display_name": "Python 3.11.0 64-bit",
   "language": "python",
   "name": "python3"
  },
  "language_info": {
   "codemirror_mode": {
    "name": "ipython",
    "version": 3
   },
   "file_extension": ".py",
   "mimetype": "text/x-python",
   "name": "python",
   "nbconvert_exporter": "python",
   "pygments_lexer": "ipython3",
   "version": "3.11.0"
  },
  "orig_nbformat": 4,
  "vscode": {
   "interpreter": {
    "hash": "7677e4661468436987f033e54db47562858cd7b875bd3612ac1f52d3b0311de2"
   }
  }
 },
 "nbformat": 4,
 "nbformat_minor": 2
}
