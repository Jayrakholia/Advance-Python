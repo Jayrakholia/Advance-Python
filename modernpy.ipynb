{
 "cells": [
  {
   "cell_type": "code",
   "execution_count": 3,
   "metadata": {},
   "outputs": [
    {
     "name": "stdout",
     "output_type": "stream",
     "text": [
      "Convert 'x' to 8 digits number: , 00000010\n"
     ]
    }
   ],
   "source": [
    "#Part 1\n",
    "x=10\n",
    "print(f'Convert \\'x\\' to 8 digits number: , {x:08d}')"
   ]
  },
  {
   "cell_type": "code",
   "execution_count": 4,
   "metadata": {},
   "outputs": [
    {
     "ename": "ValueError",
     "evalue": "Expected 10 to a float not a int",
     "output_type": "error",
     "traceback": [
      "\u001b[1;31m---------------------------------------------------------------------------\u001b[0m",
      "\u001b[1;31mValueError\u001b[0m                                Traceback (most recent call last)",
      "Cell \u001b[1;32mIn[4], line 1\u001b[0m\n\u001b[1;32m----> 1\u001b[0m \u001b[39mraise\u001b[39;00m \u001b[39mValueError\u001b[39;00m(\u001b[39mf\u001b[39m\u001b[39m'\u001b[39m\u001b[39mExpected \u001b[39m\u001b[39m{\u001b[39;00mx\u001b[39m}\u001b[39;00m\u001b[39m to a float not a \u001b[39m\u001b[39m{\u001b[39;00m\u001b[39mtype\u001b[39m(x)\u001b[39m.\u001b[39m\u001b[39m__name__\u001b[39m\u001b[39m}\u001b[39;00m\u001b[39m'\u001b[39m)\n",
      "\u001b[1;31mValueError\u001b[0m: Expected 10 to a float not a int"
     ]
    }
   ],
   "source": [
    "raise ValueError(f'Expected {x} to a float not a {type(x).__name__}')"
   ]
  },
  {
   "cell_type": "code",
   "execution_count": 9,
   "metadata": {},
   "outputs": [
    {
     "data": {
      "text/plain": [
       "['dragons', 'dragons']"
      ]
     },
     "execution_count": 9,
     "metadata": {},
     "output_type": "execute_result"
    }
   ],
   "source": [
    "from collections import Counter\n",
    "d={}\n",
    "\n",
    "d=Counter()\n",
    "d['dragons']\n",
    "\n",
    "d['dragons'] +=1\n",
    "d['dragons'] +=1\n",
    "d\n",
    "list(d.elements())\n"
   ]
  },
  {
   "cell_type": "code",
   "execution_count": 14,
   "metadata": {},
   "outputs": [
    {
     "data": {
      "text/plain": [
       "['red', 'green', 'green', 'blue', 'blue', 'blue']"
      ]
     },
     "execution_count": 14,
     "metadata": {},
     "output_type": "execute_result"
    }
   ],
   "source": [
    "c = Counter('red green blue green blue blue'.split())\n",
    "c\n",
    "c.most_common(1)\n",
    "c.most_common(2)\n",
    "list(c.elements())"
   ]
  },
  {
   "cell_type": "code",
   "execution_count": 20,
   "metadata": {},
   "outputs": [
    {
     "data": {
      "text/plain": [
       "1.247219128924647"
      ]
     },
     "execution_count": 20,
     "metadata": {},
     "output_type": "execute_result"
    }
   ],
   "source": [
    "from statistics import mean,median,mode,stdev,pstdev\n",
    "\n",
    "mean([50,52,53])\n",
    "median([50,52,53])\n",
    "mode([50,52,53,53])\n",
    "stdev([50,52,53,50,52,53])\n",
    "pstdev([50,52,53,50,52,53])"
   ]
  },
  {
   "cell_type": "code",
   "execution_count": 23,
   "metadata": {},
   "outputs": [
    {
     "data": {
      "text/plain": [
       "[10, 20, 70, 80]"
      ]
     },
     "execution_count": 23,
     "metadata": {},
     "output_type": "execute_result"
    }
   ],
   "source": [
    "s = [10,20,30,40]          \n",
    "t = [50,60,70,80]\n",
    "u = s+t\n",
    "u\n",
    "u[:2]+u[-2:]\n",
    "\n"
   ]
  },
  {
   "cell_type": "code",
   "execution_count": 24,
   "metadata": {},
   "outputs": [
    {
     "data": {
      "text/plain": [
       "[4, 5, 10, 29]"
      ]
     },
     "execution_count": 24,
     "metadata": {},
     "output_type": "execute_result"
    }
   ],
   "source": [
    "s = [10,5,29,4]\n",
    "s.sort()        \n",
    "s"
   ]
  },
  {
   "cell_type": "code",
   "execution_count": 27,
   "metadata": {},
   "outputs": [
    {
     "data": {
      "text/plain": [
       "[10, 5, 29, 4]"
      ]
     },
     "execution_count": 27,
     "metadata": {},
     "output_type": "execute_result"
    }
   ],
   "source": [
    "s = [10,5,29,4]\n",
    "sorted(s)       \n",
    "s"
   ]
  },
  {
   "cell_type": "code",
   "execution_count": 31,
   "metadata": {},
   "outputs": [
    {
     "data": {
      "text/plain": [
       "['a', 'c', 't']"
      ]
     },
     "execution_count": 31,
     "metadata": {},
     "output_type": "execute_result"
    }
   ],
   "source": [
    "sorted('cat')\n"
   ]
  },
  {
   "cell_type": "code",
   "execution_count": 35,
   "metadata": {},
   "outputs": [
    {
     "data": {
      "text/plain": [
       "7"
      ]
     },
     "execution_count": 35,
     "metadata": {},
     "output_type": "execute_result"
    }
   ],
   "source": [
    "lambda x:x**2\n",
    "(lambda x:x**2)(3)+5\n",
    "2 + (lambda x:x**2)(3) +5\n",
    "f = lambda x,y : x**2 +y\n",
    "f(2,3)"
   ]
  },
  {
   "cell_type": "code",
   "execution_count": 37,
   "metadata": {},
   "outputs": [
    {
     "data": {
      "text/plain": [
       "8"
      ]
     },
     "execution_count": 37,
     "metadata": {},
     "output_type": "execute_result"
    }
   ],
   "source": [
    "x,y = 2,3\n",
    "f = lambda : x**y\n",
    "f()"
   ]
  },
  {
   "cell_type": "code",
   "execution_count": 41,
   "metadata": {},
   "outputs": [
    {
     "name": "stdout",
     "output_type": "stream",
     "text": [
      "5\n"
     ]
    },
    {
     "data": {
      "text/plain": [
       "8"
      ]
     },
     "execution_count": 41,
     "metadata": {},
     "output_type": "execute_result"
    }
   ],
   "source": [
    "from functools import partial\n",
    "def sum(x,y):\n",
    "    print(x+y)\n",
    "x = 2\n",
    "sum_partial = partial(sum,x)\n",
    "sum_partial(y)\n",
    "f()"
   ]
  },
  {
   "cell_type": "code",
   "execution_count": 42,
   "metadata": {},
   "outputs": [
    {
     "data": {
      "text/plain": [
       "True"
      ]
     },
     "execution_count": 42,
     "metadata": {},
     "output_type": "execute_result"
    }
   ],
   "source": [
    "x=15\n",
    "6<x<20"
   ]
  },
  {
   "cell_type": "code",
   "execution_count": 61,
   "metadata": {},
   "outputs": [
    {
     "data": {
      "text/plain": [
       "0.945248979151896"
      ]
     },
     "execution_count": 61,
     "metadata": {},
     "output_type": "execute_result"
    }
   ],
   "source": [
    "#Part : 2\n",
    "from random import *\n",
    "\n",
    "seed(8473940)\n",
    "random()\n",
    "random()\n",
    "random()\n"
   ]
  },
  {
   "cell_type": "code",
   "execution_count": 69,
   "metadata": {},
   "outputs": [
    {
     "data": {
      "text/plain": [
       "1040.3904946109512"
      ]
     },
     "execution_count": 69,
     "metadata": {},
     "output_type": "execute_result"
    }
   ],
   "source": [
    "uniform(1000,1100)\n",
    "triangular(1000,1100)\n",
    "triangular(1000,1100)\n",
    "triangular(1000,1100)"
   ]
  },
  {
   "cell_type": "code",
   "execution_count": 81,
   "metadata": {},
   "outputs": [
    {
     "data": {
      "text/plain": [
       "84.83815612738928"
      ]
     },
     "execution_count": 81,
     "metadata": {},
     "output_type": "execute_result"
    }
   ],
   "source": [
    "gauss(100,15)"
   ]
  },
  {
   "cell_type": "code",
   "execution_count": 84,
   "metadata": {},
   "outputs": [
    {
     "data": {
      "text/plain": [
       "10.681864028986135"
      ]
     },
     "execution_count": 84,
     "metadata": {},
     "output_type": "execute_result"
    }
   ],
   "source": [
    "expovariate(1/5)"
   ]
  },
  {
   "cell_type": "code",
   "execution_count": 86,
   "metadata": {},
   "outputs": [
    {
     "data": {
      "text/plain": [
       "20.333664195773405"
      ]
     },
     "execution_count": 86,
     "metadata": {},
     "output_type": "execute_result"
    }
   ],
   "source": [
    "from statistics import mean,stdev\n",
    "\n",
    "data = [triangular(1000,1100) for x in range(1000)]\n",
    "mean(data)\n",
    "stdev(data)"
   ]
  },
  {
   "cell_type": "code",
   "execution_count": 101,
   "metadata": {},
   "outputs": [
    {
     "data": {
      "text/plain": [
       "29.1499483304942"
      ]
     },
     "execution_count": 101,
     "metadata": {},
     "output_type": "execute_result"
    }
   ],
   "source": [
    "data = [uniform(1000,1100) for x in range(1000)]\n",
    "mean(data)\n",
    "stdev(data)"
   ]
  },
  {
   "cell_type": "code",
   "execution_count": 98,
   "metadata": {},
   "outputs": [
    {
     "data": {
      "text/plain": [
       "14.926489085292506"
      ]
     },
     "execution_count": 98,
     "metadata": {},
     "output_type": "execute_result"
    }
   ],
   "source": [
    "data = [gauss(100,15) for x in range(1000)]\n",
    "mean(data)\n",
    "stdev(data)"
   ]
  },
  {
   "cell_type": "code",
   "execution_count": 109,
   "metadata": {},
   "outputs": [
    {
     "data": {
      "text/plain": [
       "47"
      ]
     },
     "execution_count": 109,
     "metadata": {},
     "output_type": "execute_result"
    }
   ],
   "source": [
    "from random import choice,choices,sample,shuffle\n",
    "outcomes = ['win','lose','draw','play again','double win']\n",
    "choice(outcomes)\n",
    "choice(outcomes)\n",
    "choice(outcomes)\n",
    "choice(outcomes)\n",
    "choice(range(100))"
   ]
  },
  {
   "cell_type": "code",
   "execution_count": 110,
   "metadata": {},
   "outputs": [
    {
     "data": {
      "text/plain": [
       "['draw', 'draw', 'win']"
      ]
     },
     "execution_count": 110,
     "metadata": {},
     "output_type": "execute_result"
    }
   ],
   "source": [
    "choices(outcomes,k=3)"
   ]
  },
  {
   "cell_type": "code",
   "execution_count": 121,
   "metadata": {},
   "outputs": [
    {
     "data": {
      "text/plain": [
       "['win',\n",
       " 'play again',\n",
       " 'win',\n",
       " 'play again',\n",
       " 'lose',\n",
       " 'win',\n",
       " 'lose',\n",
       " 'win',\n",
       " 'play again',\n",
       " 'lose']"
      ]
     },
     "execution_count": 121,
     "metadata": {},
     "output_type": "execute_result"
    }
   ],
   "source": [
    "choices(outcomes,[5,4,3,2,1],k=10)"
   ]
  },
  {
   "cell_type": "code",
   "execution_count": 125,
   "metadata": {},
   "outputs": [
    {
     "data": {
      "text/plain": [
       "[92, 68]"
      ]
     },
     "execution_count": 125,
     "metadata": {},
     "output_type": "execute_result"
    }
   ],
   "source": [
    "sample(outcomes,k=4)\n",
    "sample(outcomes,k=5)\n",
    "sample(range(100),k=2)"
   ]
  },
  {
   "cell_type": "code",
   "execution_count": 141,
   "metadata": {},
   "outputs": [
    {
     "data": {
      "text/plain": [
       "Counter({'lose': 18, 'win': 32, 'double win': 6, 'draw': 26, 'play again': 18})"
      ]
     },
     "execution_count": 141,
     "metadata": {},
     "output_type": "execute_result"
    }
   ],
   "source": [
    "from collections import Counter\n",
    "Counter(choices(outcomes,k=100))\n",
    "Counter(choices(outcomes,[5,4,3,2,1],k=100))\n"
   ]
  },
  {
   "cell_type": "code",
   "execution_count": 143,
   "metadata": {},
   "outputs": [
    {
     "data": {
      "text/plain": [
       "['draw', 'lose', 'play again', 'win', 'double win']"
      ]
     },
     "execution_count": 143,
     "metadata": {},
     "output_type": "execute_result"
    }
   ],
   "source": [
    "outcomes\n",
    "shuffle(outcomes)\n",
    "outcomes"
   ]
  },
  {
   "cell_type": "code",
   "execution_count": 149,
   "metadata": {},
   "outputs": [
    {
     "name": "stdout",
     "output_type": "stream",
     "text": [
      "won\n",
      "[9, 25, 32, 56, 64]\n"
     ]
    }
   ],
   "source": [
    "your_ticket_no = 25\n",
    "declard_list = sorted(sample(range(1,100), k=5))\n",
    "print('won') if your_ticket_no in declard_list else print('better luck next time')\n",
    "print(declard_list)"
   ]
  },
  {
   "cell_type": "code",
   "execution_count": 150,
   "metadata": {},
   "outputs": [],
   "source": [
    "#Part : 3\n",
    "#Statictics module\n",
    "from random import *\n",
    "from statistics import *\n",
    "from collections import *\n"
   ]
  },
  {
   "cell_type": "code",
   "execution_count": 153,
   "metadata": {},
   "outputs": [
    {
     "data": {
      "text/plain": [
       "Counter({'red': 18, 'black': 18, 'green': 2})"
      ]
     },
     "execution_count": 153,
     "metadata": {},
     "output_type": "execute_result"
    }
   ],
   "source": [
    "population = ['red']*18 + ['black']*18 + ['green']*2\n",
    "Counter(population)"
   ]
  },
  {
   "cell_type": "code",
   "execution_count": 158,
   "metadata": {},
   "outputs": [
    {
     "data": {
      "text/plain": [
       "Counter({'green': 1, 'black': 3, 'red': 2})"
      ]
     },
     "execution_count": 158,
     "metadata": {},
     "output_type": "execute_result"
    }
   ],
   "source": [
    "[choice(population) for x in range(6)]\n",
    "Counter([choice(population) for x in range(6)])\n"
   ]
  },
  {
   "cell_type": "code",
   "execution_count": 165,
   "metadata": {},
   "outputs": [
    {
     "data": {
      "text/plain": [
       "Counter({'black': 5, 'red': 1})"
      ]
     },
     "execution_count": 165,
     "metadata": {},
     "output_type": "execute_result"
    }
   ],
   "source": [
    "choices(population, k=6)\n",
    "Counter(choices(population, k=6))\n"
   ]
  },
  {
   "cell_type": "code",
   "execution_count": 167,
   "metadata": {},
   "outputs": [
    {
     "data": {
      "text/plain": [
       "Counter({'black': 3, 'red': 3})"
      ]
     },
     "execution_count": 167,
     "metadata": {},
     "output_type": "execute_result"
    }
   ],
   "source": [
    "choices(['red','black','green'], [18,18,2], k=6)\n",
    "Counter(choices(['red','black','green'], [18,18,2], k=6))\n"
   ]
  },
  {
   "cell_type": "code",
   "execution_count": 173,
   "metadata": {},
   "outputs": [
    {
     "data": {
      "text/plain": [
       "Counter({'low': 13, 'tens': 7})"
      ]
     },
     "execution_count": 173,
     "metadata": {},
     "output_type": "execute_result"
    }
   ],
   "source": [
    "deck = Counter(tens=16,low=36)\n",
    "deck\n",
    "deck = list(deck.elements())\n",
    "deck\n",
    "deal = sample(deck,20)\n",
    "Counter(deal)"
   ]
  },
  {
   "cell_type": "code",
   "execution_count": 181,
   "metadata": {},
   "outputs": [
    {
     "data": {
      "text/plain": [
       "True"
      ]
     },
     "execution_count": 181,
     "metadata": {},
     "output_type": "execute_result"
    }
   ],
   "source": [
    "trial = lambda: choices(['heads','tails'], cum_weights=[0.60,1.00], k=7).count('heads')>=5      \n",
    "trial()\n"
   ]
  },
  {
   "cell_type": "code",
   "execution_count": 187,
   "metadata": {},
   "outputs": [
    {
     "ename": "TypeError",
     "evalue": "unsupported operand type(s) for *: 'function' and 'int'",
     "output_type": "error",
     "traceback": [
      "\u001b[1;31m---------------------------------------------------------------------------\u001b[0m",
      "\u001b[1;31mTypeError\u001b[0m                                 Traceback (most recent call last)",
      "Cell \u001b[1;32mIn[187], line 1\u001b[0m\n\u001b[1;32m----> 1\u001b[0m \u001b[39msum\u001b[39m(trial\u001b[39m*\u001b[39;49m\u001b[39m2\u001b[39;49m)\n\u001b[0;32m      2\u001b[0m total_trials \u001b[39m=\u001b[39m \u001b[39m1000\u001b[39m\n\u001b[0;32m      3\u001b[0m \u001b[39msum\u001b[39m(trial() \u001b[39mfor\u001b[39;00m x \u001b[39min\u001b[39;00m \u001b[39mrange\u001b[39m(total_trials))\u001b[39m/\u001b[39mtotal_trials\n",
      "\u001b[1;31mTypeError\u001b[0m: unsupported operand type(s) for *: 'function' and 'int'"
     ]
    }
   ],
   "source": [
    "\n",
    "total_trials = 1000\n",
    "sum(trial() for x in range(total_trials))/total_trials"
   ]
  },
  {
   "cell_type": "code",
   "execution_count": 195,
   "metadata": {},
   "outputs": [
    {
     "data": {
      "text/plain": [
       "5747"
      ]
     },
     "execution_count": 195,
     "metadata": {},
     "output_type": "execute_result"
    }
   ],
   "source": [
    "total_numbers = 10000\n",
    "sample(range(total_numbers), k=5)[4]"
   ]
  },
  {
   "cell_type": "code",
   "execution_count": 198,
   "metadata": {},
   "outputs": [
    {
     "data": {
      "text/plain": [
       "1.4734293183060925"
      ]
     },
     "execution_count": 198,
     "metadata": {},
     "output_type": "execute_result"
    }
   ],
   "source": [
    "#Part : 4\n",
    "#bootstrapping to estimate the confidence interval on a sample of data\n",
    "#build a 90% confidence interval for means a dataset\n",
    "timings = [7.18, 8.59, 12.24, 7.39, 8.19, 8.69, 6.98, 8.31, 9.06, 7.06, 7.67, 10.02, 6.68, 9.07]\n",
    "from statistics import mean, stdev\n",
    "mean(timings)\n",
    "stdev(timings)"
   ]
  },
  {
   "cell_type": "code",
   "execution_count": 213,
   "metadata": {},
   "outputs": [
    {
     "name": "stdout",
     "output_type": "stream",
     "text": [
      "The observed mean of total data: 8.369961785714287\n",
      "Falls in a 90% confidence interval from mean value outcomes 7.8 to 9.0\n"
     ]
    }
   ],
   "source": [
    "def bootstrap(data):\n",
    "    return choices(data, k =len(data))\n",
    "\n",
    "from random import choices\n",
    "bootstrap(timings)\n",
    "mean(bootstrap(timings))\n",
    "trial = lambda: mean(bootstrap(timings))\n",
    "total_numbers = 10000\n",
    "means = sorted(trial() for x in range(total_numbers))\n",
    "len(means)\n",
    "means[:20]\n",
    "means[-20:]\n",
    "means[500]\n",
    "means[-500]\n",
    "print(f'The observed mean of total data: {mean(means)}')\n",
    "print(f'Falls in a 90% confidence interval from mean value outcomes {means[500]:.1f} to {means[-500]:.1f}')"
   ]
  },
  {
   "cell_type": "code",
   "execution_count": 217,
   "metadata": {},
   "outputs": [
    {
     "data": {
      "text/plain": [
       "6.841666666666667"
      ]
     },
     "execution_count": 217,
     "metadata": {},
     "output_type": "execute_result"
    }
   ],
   "source": [
    "drug_results = [7.1, 8.5, 6.4, 7.7, 8.2, 7.6, 8.4, 5.1, 8.1, 7.4, 6.9, 8.4]\n",
    "placebo_results = [8.2, 6.1, 7.1, 7.1, 4.9, 7.4, 8.1, 7.1, 6.2, 7.0, 6.6, 6.3]\n",
    "len(drug_results)\n",
    "len(placebo_results)\n",
    "mean(drug_results)\n",
    "mean(placebo_results)"
   ]
  },
  {
   "cell_type": "code",
   "execution_count": 219,
   "metadata": {},
   "outputs": [
    {
     "data": {
      "text/plain": [
       "0.6416666666666666"
      ]
     },
     "execution_count": 219,
     "metadata": {},
     "output_type": "execute_result"
    }
   ],
   "source": [
    "obs_diff = mean(drug_results)-mean(placebo_results)\n",
    "obs_diff"
   ]
  },
  {
   "cell_type": "code",
   "execution_count": 233,
   "metadata": {},
   "outputs": [
    {
     "data": {
      "text/plain": [
       "[6.4,\n",
       " 7.1,\n",
       " 7.0,\n",
       " 4.9,\n",
       " 8.4,\n",
       " 7.1,\n",
       " 7.6,\n",
       " 8.2,\n",
       " 7.1,\n",
       " 7.4,\n",
       " 6.9,\n",
       " 7.4,\n",
       " 5.1,\n",
       " 6.1,\n",
       " 6.6,\n",
       " 8.4,\n",
       " 8.1,\n",
       " 6.2,\n",
       " 8.1,\n",
       " 6.3,\n",
       " 7.1,\n",
       " 7.7,\n",
       " 8.2,\n",
       " 8.5]"
      ]
     },
     "execution_count": 233,
     "metadata": {},
     "output_type": "execute_result"
    }
   ],
   "source": [
    "combination = drug_results + placebo_results\n",
    "nd = len(drug_results)\n",
    "shuffle(combination)\n",
    "combination[:nd]\n",
    "combination[nd:]\n",
    "combination[:]"
   ]
  },
  {
   "cell_type": "code",
   "execution_count": 235,
   "metadata": {},
   "outputs": [],
   "source": [
    "def trial():\n",
    "    shuffle(combination)\n",
    "    drug_results = combination[:nd]\n",
    "    palcebo_results = combination[nd:]\n",
    "    new_diff = mean(drug_results) - mean(placebo_results)\n",
    "    return new_diff >= obs_diff                             \n"
   ]
  },
  {
   "cell_type": "code",
   "execution_count": 241,
   "metadata": {},
   "outputs": [
    {
     "name": "stdout",
     "output_type": "stream",
     "text": [
      "defaultdict(<class 'list'>, {'p': ['parth'], 's': ['samjay', 'singham', 'shlok'], 'z': ['zeal', 'zeel', 'zelu'], 'b': ['bhoomit', 'brijesh'], 'h': ['helly'], 'a': ['anjali'], 'u': ['uttam'], 'r': ['rahul', 'rajeshvar', 'raj'], 'm': ['mahesh']})\n"
     ]
    }
   ],
   "source": [
    "#Part : 5\n",
    "#grouping\n",
    "from collections import defaultdict\n",
    "names = ''' parth samjay zeal zeel bhoomit helly \n",
    "anjali uttam rahul singham brijesh shlok zelu rajeshvar raj mahesh'''.split()\n",
    "d = defaultdict(list)\n",
    "for name in names:\n",
    "    feature = name[0]\n",
    "    d[feature].append(name)\n",
    "print(d)"
   ]
  },
  {
   "cell_type": "code",
   "execution_count": 242,
   "metadata": {},
   "outputs": [
    {
     "name": "stdout",
     "output_type": "stream",
     "text": [
      "defaultdict(<class 'list'>, {5: ['parth', 'helly', 'uttam', 'rahul', 'shlok'], 6: ['samjay', 'anjali', 'mahesh'], 4: ['zeal', 'zeel', 'zelu'], 7: ['bhoomit', 'singham', 'brijesh'], 9: ['rajeshvar'], 3: ['raj']})\n"
     ]
    }
   ],
   "source": [
    "d = defaultdict(list)\n",
    "for name in names:\n",
    "    feature = len(name)\n",
    "    d[feature].append(name)\n",
    "print(d)"
   ]
  },
  {
   "cell_type": "code",
   "execution_count": 243,
   "metadata": {},
   "outputs": [
    {
     "name": "stdout",
     "output_type": "stream",
     "text": [
      "['raj', 'zeal', 'zeel', 'zelu', 'parth', 'helly', 'uttam', 'rahul', 'shlok', 'samjay', 'anjali', 'mahesh', 'bhoomit', 'singham', 'brijesh', 'rajeshvar']\n"
     ]
    }
   ],
   "source": [
    "print(sorted(names, key=len))"
   ]
  },
  {
   "cell_type": "code",
   "execution_count": 244,
   "metadata": {},
   "outputs": [
    {
     "data": {
      "text/plain": [
       "[('a', 'f'), ('b', 'g'), ('c', 'h'), ('d', 'i'), ('e', 'j')]"
      ]
     },
     "execution_count": 244,
     "metadata": {},
     "output_type": "execute_result"
    }
   ],
   "source": [
    "list(zip('abcde','fghijk')) "
   ]
  },
  {
   "cell_type": "code",
   "execution_count": 246,
   "metadata": {},
   "outputs": [
    {
     "data": {
      "text/plain": [
       "[('a', 'f'), ('b', 'g'), ('c', 'h'), ('d', 'i'), ('e', 'j'), ('x', 'k')]"
      ]
     },
     "execution_count": 246,
     "metadata": {},
     "output_type": "execute_result"
    }
   ],
   "source": [
    "from itertools import zip_longest\n",
    "list(zip_longest('abcde','fghijk'))\n",
    "list(zip_longest('abcde','fghijk', fillvalue='x'))"
   ]
  },
  {
   "cell_type": "code",
   "execution_count": 255,
   "metadata": {},
   "outputs": [
    {
     "name": "stdout",
     "output_type": "stream",
     "text": [
      "[(10, 30, 50), (20, 40, 60)]\n",
      "[(10, 30, 50), (20, 40, 60)]\n"
     ]
    }
   ],
   "source": [
    "m = [[10,20],\n",
    "    [30,40],\n",
    "    [50,60]\n",
    "]\n",
    "print(list(zip([10,20],[30,40],[50,60])))\n",
    "print(list(zip(*m)))\n",
    "\n"
   ]
  },
  {
   "cell_type": "code",
   "execution_count": 256,
   "metadata": {},
   "outputs": [
    {
     "data": {
      "text/plain": [
       "['a', 'b', 'c', 'd', 'e']"
      ]
     },
     "execution_count": 256,
     "metadata": {},
     "output_type": "execute_result"
    }
   ],
   "source": [
    "it = iter('abcde')\n",
    "it\n",
    "list(it)"
   ]
  },
  {
   "cell_type": "code",
   "execution_count": 257,
   "metadata": {},
   "outputs": [
    {
     "data": {
      "text/plain": [
       "['Some_Code.txt']"
      ]
     },
     "execution_count": 257,
     "metadata": {},
     "output_type": "execute_result"
    }
   ],
   "source": [
    "import glob\n",
    "glob.glob('*.txt')\n"
   ]
  },
  {
   "cell_type": "code",
   "execution_count": 261,
   "metadata": {},
   "outputs": [
    {
     "data": {
      "text/plain": [
       "[76, 111, 776, 119, 105, 115]"
      ]
     },
     "execution_count": 261,
     "metadata": {},
     "output_type": "execute_result"
    }
   ],
   "source": [
    "s = 'L' + chr(246) + 'wis'\n",
    "t = 'L' + chr(111) + chr(776) + 'wis'\n",
    "s,t     #both looks the same but are actually different and won't match\n",
    "s==t\n",
    "[ord(s) for s in s]\n",
    "[ord(t) for t in t]"
   ]
  },
  {
   "cell_type": "code",
   "execution_count": 268,
   "metadata": {},
   "outputs": [
    {
     "data": {
      "text/plain": [
       "[76, 246, 119, 105, 115]"
      ]
     },
     "execution_count": 268,
     "metadata": {},
     "output_type": "execute_result"
    }
   ],
   "source": [
    "import unicodedata\n",
    "u = unicodedata.normalize('NFC',t)\n",
    "[ord(u) for u in u]"
   ]
  },
  {
   "cell_type": "code",
   "execution_count": null,
   "metadata": {},
   "outputs": [],
   "source": []
  }
 ],
 "metadata": {
  "kernelspec": {
   "display_name": "Python 3",
   "language": "python",
   "name": "python3"
  },
  "language_info": {
   "codemirror_mode": {
    "name": "ipython",
    "version": 3
   },
   "file_extension": ".py",
   "mimetype": "text/x-python",
   "name": "python",
   "nbconvert_exporter": "python",
   "pygments_lexer": "ipython3",
   "version": "3.11.0"
  },
  "orig_nbformat": 4,
  "vscode": {
   "interpreter": {
    "hash": "7677e4661468436987f033e54db47562858cd7b875bd3612ac1f52d3b0311de2"
   }
  }
 },
 "nbformat": 4,
 "nbformat_minor": 2
}
