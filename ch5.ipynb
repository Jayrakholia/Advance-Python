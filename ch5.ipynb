{
 "cells": [
  {
   "attachments": {},
   "cell_type": "markdown",
   "metadata": {},
   "source": [
    "Chap 5 : Tuple"
   ]
  },
  {
   "cell_type": "code",
   "execution_count": 1,
   "metadata": {},
   "outputs": [
    {
     "name": "stdout",
     "output_type": "stream",
     "text": [
      "calling value using tuple(as key) [1, 2, 3]\n"
     ]
    }
   ],
   "source": [
    "my_tuple = (1,2,3,4,5)\n",
    "user = {\n",
    "  (1,2) : [1,2,3],\n",
    "  'greet' : 'hello',\n",
    "  'age' : 24\n",
    "}\n",
    "print(\"calling value using tuple(as key)\",user[(1,2)])\n"
   ]
  },
  {
   "cell_type": "code",
   "execution_count": 2,
   "metadata": {},
   "outputs": [
    {
     "name": "stdout",
     "output_type": "stream",
     "text": [
      "\n",
      "Slicing tuple : (3,)\n",
      "Slicing tuple : (3, 4, 5)\n",
      "x :  1\n",
      "y :  2\n",
      "z :  3\n",
      "other :  [4, 5]\n",
      "Count '5' occurances:  1\n",
      "Index of '5' occurance:  4\n",
      "Length of the tuple : 5\n"
     ]
    }
   ],
   "source": [
    "#tuple stuff\n",
    "new_tuple = my_tuple[:]\n",
    "x,y,z, *other = new_tuple\n",
    "print(\"\\nSlicing tuple :\", my_tuple[2:3])\n",
    "print(\"Slicing tuple :\", my_tuple[2:])\n",
    "print(\"x : \",x)\n",
    "print(\"y : \",y)\n",
    "print(\"z : \",z)\n",
    "print(\"other : \",other)\n",
    "print(\"Count '5' occurances: \", new_tuple.count(5))\n",
    "print(\"Index of '5' occurance: \", new_tuple.index(5))\n",
    "print(\"Length of the tuple :\", len(new_tuple))\n"
   ]
  }
 ],
 "metadata": {
  "kernelspec": {
   "display_name": "Python 3",
   "language": "python",
   "name": "python3"
  },
  "language_info": {
   "codemirror_mode": {
    "name": "ipython",
    "version": 3
   },
   "file_extension": ".py",
   "mimetype": "text/x-python",
   "name": "python",
   "nbconvert_exporter": "python",
   "pygments_lexer": "ipython3",
   "version": "3.11.0"
  },
  "orig_nbformat": 4,
  "vscode": {
   "interpreter": {
    "hash": "7677e4661468436987f033e54db47562858cd7b875bd3612ac1f52d3b0311de2"
   }
  }
 },
 "nbformat": 4,
 "nbformat_minor": 2
}
