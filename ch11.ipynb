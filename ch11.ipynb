{
 "cells": [
  {
   "cell_type": "code",
   "execution_count": 1,
   "metadata": {},
   "outputs": [
    {
     "name": "stdout",
     "output_type": "stream",
     "text": [
      "\n",
      "username,password do exists\n"
     ]
    }
   ],
   "source": [
    "username = \"Parth\"\n",
    "password = '123'\n",
    "\n",
    "if username and password:\n",
    "  print(\"\\nusername,password do exists\")\n",
    "else:\n",
    "  print(\"\\nusername,password don't exists\")\n"
   ]
  },
  {
   "cell_type": "code",
   "execution_count": 2,
   "metadata": {},
   "outputs": [
    {
     "name": "stdout",
     "output_type": "stream",
     "text": [
      "\n",
      "can_message : message allowed\n"
     ]
    }
   ],
   "source": [
    "is_friend = True\n",
    "can_message = \"message allowed\" if is_friend else \"message not allowed\"\n",
    "print(\"\\ncan_message :\", can_message)"
   ]
  },
  {
   "cell_type": "code",
   "execution_count": 3,
   "metadata": {},
   "outputs": [
    {
     "name": "stdout",
     "output_type": "stream",
     "text": [
      "You need magic powers\n"
     ]
    }
   ],
   "source": [
    "is_magician = False\n",
    "is_expert = True\n",
    "if is_magician and is_expert:\n",
    "  print(\"\\nYou are a master magician\")\n",
    "elif is_magician and not is_expert:\n",
    "  print(\"\\nAtleast you're getting somewhere\")\n",
    "elif not is_magician:\n",
    "  print(\"You need magic powers\")"
   ]
  },
  {
   "cell_type": "code",
   "execution_count": 4,
   "metadata": {},
   "outputs": [
    {
     "name": "stdout",
     "output_type": "stream",
     "text": [
      "\n",
      "Memory location :  Different memory\n"
     ]
    }
   ],
   "source": [
    "a = [1,2]\n",
    "b = [1,2]\n",
    "memory = \"Same memory\" if a is b else \"Different memory\"\n",
    "print(\"\\nMemory location : \", memory)\n"
   ]
  },
  {
   "cell_type": "code",
   "execution_count": 7,
   "metadata": {},
   "outputs": [
    {
     "name": "stdout",
     "output_type": "stream",
     "text": [
      "   *   \n",
      "\n",
      "  ***  \n",
      "\n",
      " ***** \n",
      "\n",
      "*******\n",
      "\n",
      "   *   \n",
      "\n",
      "   *   \n",
      "\n"
     ]
    }
   ],
   "source": [
    "picture = [\n",
    "  [0,0,0,1,0,0,0],\n",
    "  [0,0,1,1,1,0,0],\n",
    "  [0,1,1,1,1,1,0],\n",
    "  [1,1,1,1,1,1,1],\n",
    "  [0,0,0,1,0,0,0],\n",
    "  [0,0,0,1,0,0,0]\n",
    "]\n",
    "for row in picture:\n",
    "    for pixel in row:\n",
    "        if not pixel:\n",
    "            print(\" \",end='')\n",
    "        else:\n",
    "            print(\"*\",end='')\n",
    "    print(\"\\n\")"
   ]
  },
  {
   "cell_type": "code",
   "execution_count": 8,
   "metadata": {},
   "outputs": [
    {
     "name": "stdout",
     "output_type": "stream",
     "text": [
      "['b', 'n']\n"
     ]
    }
   ],
   "source": [
    "some_list = ['a','b','c','b','d','m','n','n']\n",
    "duplicates = []\n",
    "\n",
    "for item in some_list:\n",
    "  if some_list.count(item) > 1:\n",
    "    if item not in duplicates:\n",
    "      duplicates.append(item)\n",
    "  \n",
    "print(duplicates)"
   ]
  },
  {
   "cell_type": "code",
   "execution_count": 9,
   "metadata": {},
   "outputs": [
    {
     "name": "stdout",
     "output_type": "stream",
     "text": [
      "<function call_me at 0x000001FB03C42020>\n",
      "You have called me!\n"
     ]
    }
   ],
   "source": [
    "def call_me():\n",
    "  print(\"You have called me!\")\n",
    "\n",
    "print(call_me)  \n",
    "call_me()"
   ]
  },
  {
   "cell_type": "code",
   "execution_count": 11,
   "metadata": {},
   "outputs": [
    {
     "name": "stdout",
     "output_type": "stream",
     "text": [
      "\n",
      "You have called me Parth! of 24 age\n"
     ]
    }
   ],
   "source": [
    "def call_me(name,age): \n",
    "  print(f\"\\nYou have called me {name}! of {age} age\")\n",
    "call_me(\"Parth\",24)"
   ]
  },
  {
   "cell_type": "code",
   "execution_count": 12,
   "metadata": {},
   "outputs": [
    {
     "name": "stdout",
     "output_type": "stream",
     "text": [
      "\n",
      "Outer function`\n",
      "\n",
      "Inner function\n"
     ]
    }
   ],
   "source": [
    "def outer_function():\n",
    "\n",
    "  print(\"\\nOuter function`\")\n",
    "  def inner_function():\n",
    "    print(\"\\nInner function\")\n",
    "\n",
    "  return inner_function()\n",
    "\n",
    "outer_function()"
   ]
  },
  {
   "cell_type": "code",
   "execution_count": 13,
   "metadata": {},
   "outputs": [
    {
     "name": "stdout",
     "output_type": "stream",
     "text": [
      "\n",
      "'args' gets stored as a tuple, Sum : 15\n"
     ]
    }
   ],
   "source": [
    "def some_fn(*args):   \n",
    "  return sum(args)\n",
    "\n",
    "print(\"\\n'args' gets stored as a tuple, Sum :\",some_fn(1,2,3,4,5))\n"
   ]
  },
  {
   "cell_type": "code",
   "execution_count": 14,
   "metadata": {},
   "outputs": [
    {
     "name": "stdout",
     "output_type": "stream",
     "text": [
      "{'item1': 5, 'item2': 10}\n",
      "5\n",
      "\n",
      "'kwargs' contains a dictionary, Sum : 15\n"
     ]
    }
   ],
   "source": [
    "def some_fn(**kwargs):\n",
    "  print(kwargs)\n",
    "  print(kwargs['item1'])\n",
    "  return sum(kwargs.values())\n",
    "\n",
    "print(\"\\n'kwargs' contains a dictionary, Sum :\",some_fn(item1=5, item2=10))\n",
    "\n"
   ]
  },
  {
   "cell_type": "code",
   "execution_count": 15,
   "metadata": {},
   "outputs": [
    {
     "name": "stdout",
     "output_type": "stream",
     "text": [
      "\n",
      "Combination : 55\n"
     ]
    }
   ],
   "source": [
    "def some_fn(name,*args,age=24,**kwargs):\n",
    "  return sum(kwargs.values()) + sum(args)\n",
    "\n",
    "print(\"\\nCombination :\",some_fn('Parth',1,2,3,4,5,25,item1=5, item2=10))"
   ]
  },
  {
   "cell_type": "code",
   "execution_count": 16,
   "metadata": {},
   "outputs": [
    {
     "data": {
      "text/plain": [
       "32"
      ]
     },
     "execution_count": 16,
     "metadata": {},
     "output_type": "execute_result"
    }
   ],
   "source": [
    "from functools import partial\n",
    "two_pow = partial(pow,2)\n",
    "two_pow(5)"
   ]
  },
  {
   "cell_type": "code",
   "execution_count": 17,
   "metadata": {},
   "outputs": [
    {
     "name": "stdout",
     "output_type": "stream",
     "text": [
      "\n",
      "Scope Confusion\n",
      "10\n",
      "1\n"
     ]
    }
   ],
   "source": [
    "print(\"\\nScope Confusion\")\n",
    "a=1\n",
    "def fn():\n",
    "  a=10\n",
    "  return a\n",
    "print(fn())  \n",
    "print(a)"
   ]
  },
  {
   "cell_type": "code",
   "execution_count": 24,
   "metadata": {},
   "outputs": [
    {
     "name": "stdout",
     "output_type": "stream",
     "text": [
      "\n",
      "Inner 2 x :  nonlocal2\n",
      "\n",
      "Outer x :  local\n"
     ]
    }
   ],
   "source": [
    "def outer():\n",
    "  x = 'local'\n",
    "\n",
    "  def inner2():\n",
    "    x= 'nonlocal2'\n",
    "    print(\"\\nInner 2 x : \",x)\n",
    "  inner2()\n",
    "  print(\"\\nOuter x : \",x)\n",
    "\n",
    "outer()"
   ]
  },
  {
   "cell_type": "code",
   "execution_count": 25,
   "metadata": {},
   "outputs": [
    {
     "name": "stdout",
     "output_type": "stream",
     "text": [
      "\n",
      "Highest Even :  80.0\n"
     ]
    }
   ],
   "source": [
    "def highest_even(li):\n",
    "  highest=0\n",
    "  for item in li:\n",
    "    new=item/2\n",
    "    if(item%2==0 and new > highest):\n",
    "      highest=new\n",
    "  print(\"\\nHighest Even : \",highest*2)\n",
    "\n",
    "highest_even([10,2,5,3,79,4,80])"
   ]
  },
  {
   "cell_type": "code",
   "execution_count": 42,
   "metadata": {},
   "outputs": [
    {
     "name": "stdout",
     "output_type": "stream",
     "text": [
      "\n",
      "Membership : True\n",
      "Membership :  True\n",
      "\n",
      "Membership : True\n",
      "Membership :  True\n",
      "Player 1 : Parth\n",
      "Player 2 Membership: True\n",
      "Player Membership : True\n",
      "\n",
      "Zeal is Running\n",
      "\n",
      "Membership : True\n",
      "Membership :  True\n",
      "\n",
      "Calling class method and getting new player object with 'cls' method and getting name : jay\n",
      "\n",
      "Calling static method : 5\n"
     ]
    }
   ],
   "source": [
    "#class\n",
    "\n",
    "class PlayerCharacter:\n",
    "    membership = True\n",
    "    def __init__(self,name):\n",
    "        self.name= name\n",
    "        print(\"\\nMembership :\",self.membership)\n",
    "        print(\"Membership : \",PlayerCharacter.membership)\n",
    "\n",
    "    @classmethod\n",
    "    def classmethod(cls,num1,num2):\n",
    "        return cls(\"jay\")\n",
    "    \n",
    "    @staticmethod\n",
    "    def staticmethod(num1,num2):\n",
    "        return num1+num2\n",
    "    \n",
    "    def run(self):\n",
    "        print(f\"\\n{self.name} is Running\")\n",
    "\n",
    "player1 = PlayerCharacter(\"Parth\")\n",
    "player2 = PlayerCharacter(\"Zeal\")   \n",
    "print(\"Player 1 :\", player1.name)\n",
    "print(\"Player 2 Membership:\", player2.membership)\n",
    "print(\"Player Membership :\", PlayerCharacter.membership)\n",
    "player2.run()\n",
    "player3 = PlayerCharacter.classmethod(2, 3)\n",
    "print(\n",
    "    \"\\nCalling class method and getting new player object with 'cls' method and getting name :\",\n",
    "    player3.name)\n",
    "print(\"\\nCalling static method :\", PlayerCharacter.staticmethod(2, 3))"
   ]
  },
  {
   "cell_type": "code",
   "execution_count": 45,
   "metadata": {},
   "outputs": [
    {
     "name": "stdout",
     "output_type": "stream",
     "text": [
      "Dog1 animal type :  Dog\n",
      "\n",
      "joshua dog is running at 12 kn/hr\n",
      "Dog1 animal type :  cat\n",
      "Dog1 run method converted :  hello\n"
     ]
    }
   ],
   "source": [
    "class Dog():\n",
    "    animal__type = 'Dog'\n",
    "\n",
    "    def __init__(self,breed,speed):\n",
    "        self.breed = breed\n",
    "        self.speed = speed\n",
    "    \n",
    "    def run(self):\n",
    "        print(f\"\\n{self.breed} dog is running at {self.speed} kn/hr\")\n",
    "\n",
    "dog1 = Dog(\"joshua\", 12)\n",
    "print(\"Dog1 animal type : \",dog1.animal__type)\n",
    "dog1.run()\n",
    "\n",
    "dog1.animal__type = 'cat'\n",
    "print(\"Dog1 animal type : \",dog1.animal__type)\n",
    "\n",
    "dog1.run = 'hello'\n",
    "print(\"Dog1 run method converted : \",dog1.run)"
   ]
  },
  {
   "cell_type": "code",
   "execution_count": 56,
   "metadata": {},
   "outputs": [
    {
     "name": "stdout",
     "output_type": "stream",
     "text": [
      "signed in\n",
      "Wizard signed in! None\n",
      "signed in\n",
      "Archer signed in! None\n"
     ]
    }
   ],
   "source": [
    "#Inheritence\n",
    "class user():\n",
    "    def sign_in(self):\n",
    "        print(\"signed in\")\n",
    "\n",
    "class Wizard(user):\n",
    "    pass\n",
    "\n",
    "class Archer(user):\n",
    "    pass\n",
    "\n",
    "wizard = Wizard()\n",
    "print(\"Wizard signed in!\", wizard.sign_in())\n",
    "archer = Archer()\n",
    "print(\"Archer signed in!\", archer.sign_in())  \n",
    "\n"
   ]
  },
  {
   "cell_type": "code",
   "execution_count": 48,
   "metadata": {},
   "outputs": [
    {
     "name": "stdout",
     "output_type": "stream",
     "text": [
      "\n",
      "Is wizard an instance of Wizard class? True\n",
      "Is wizard an instance of User class? True\n",
      "is wizard an instance of highest('object') class? True\n",
      "is wizard a subclass of highest('object') class? True\n"
     ]
    }
   ],
   "source": [
    "print(f\"\\nIs wizard an instance of Wizard class? {isinstance(wizard,Wizard)}\")\n",
    "print(f\"Is wizard an instance of User class? {isinstance(wizard,user)}\")\n",
    "print(f\"is wizard an instance of highest('object') class? {isinstance(wizard,object)}\")\n",
    "print(f\"is wizard a subclass of highest('object') class? {issubclass(Wizard,object)}\")"
   ]
  },
  {
   "cell_type": "code",
   "execution_count": 62,
   "metadata": {},
   "outputs": [
    {
     "name": "stdout",
     "output_type": "stream",
     "text": [
      "Human\n"
     ]
    }
   ],
   "source": [
    "#Super\n",
    "class A():\n",
    "    x=10\n",
    "\n",
    "    def __init__(self,type):\n",
    "        self.type = type\n",
    "        return self.type\n",
    "\n",
    "class B(A):\n",
    "    def __init__(self,name, type):\n",
    "        super().__init__(type)\n",
    "\n",
    "b= B(\"BBB\",\"Human\")\n",
    "print(b.type)    \n"
   ]
  },
  {
   "cell_type": "code",
   "execution_count": 63,
   "metadata": {},
   "outputs": [
    {
     "name": "stdout",
     "output_type": "stream",
     "text": [
      "ccc is just walking around\n",
      "sss is just walking around\n",
      "CCC is just walking around\n"
     ]
    }
   ],
   "source": [
    "class Pets():\n",
    "    animals = []\n",
    "    def __init__(self, animals):\n",
    "        self.animals = animals\n",
    "        \n",
    "\n",
    "    def walk(self):\n",
    "        for animal in self.animals:\n",
    "            print(animal.walk())\n",
    "\n",
    "class Cat():\n",
    "    is_lazy = True\n",
    "\n",
    "    def __init__(self, name, age):\n",
    "        self.name = name\n",
    "        self.age = age\n",
    "\n",
    "    def walk(self):\n",
    "        return f'{self.name} is just walking around'\n",
    "\n",
    "class Simon(Cat):\n",
    "    def sing(self, sounds):\n",
    "        return f'{sounds}'\n",
    "\n",
    "class Sally(Cat):\n",
    "    def sing(self, sounds):\n",
    "        return f'{sounds}'\n",
    "\n",
    "class Cattie(Cat):\n",
    "    def sing(self, sounds):\n",
    "        return f'{sounds}'\n",
    "\n",
    "my_cats = [Simon(\"ccc\",12),Sally('sss',10),Cattie('CCC',11)]\n",
    "my_pets = Pets(my_cats)\n",
    "my_pets.walk()"
   ]
  },
  {
   "cell_type": "code",
   "execution_count": 69,
   "metadata": {},
   "outputs": [
    {
     "name": "stdout",
     "output_type": "stream",
     "text": [
      "calling 'fun' as a variable\n"
     ]
    }
   ],
   "source": [
    "#Decorators\n",
    "def call_fun(passedfun):\n",
    "    return passedfun()\n",
    "\n",
    "def greet():\n",
    "    print(\"calling \\'fun\\' as a variable\")\n",
    "\n",
    "call_fun(greet)"
   ]
  },
  {
   "cell_type": "code",
   "execution_count": 72,
   "metadata": {},
   "outputs": [
    {
     "name": "stdout",
     "output_type": "stream",
     "text": [
      "calling 'fun' as a variable\n"
     ]
    }
   ],
   "source": [
    "def call_ref(passedfun):\n",
    "    return passedfun\n",
    "\n",
    "def greet():\n",
    "    print(\"calling \\'fun\\' as a variable\")\n",
    "\n",
    "x = call_ref(greet)\n",
    "x()"
   ]
  },
  {
   "cell_type": "code",
   "execution_count": 82,
   "metadata": {},
   "outputs": [
    {
     "name": "stdout",
     "output_type": "stream",
     "text": [
      "\n",
      "Creating our own decorators\n",
      "****************\n",
      "\n",
      "just calling\n",
      "\n",
      "****************\n"
     ]
    }
   ],
   "source": [
    "print(\"\\nCreating our own decorators\")\n",
    "def my_decorator(func):\n",
    "    def wrap_func():\n",
    "        print(\"****************\")\n",
    "        func()\n",
    "        print(\"\\n****************\")\n",
    "    return wrap_func\n",
    "\n",
    "@my_decorator\n",
    "def call():\n",
    "    print(\"\\njust calling\")\n",
    "call()"
   ]
  },
  {
   "cell_type": "code",
   "execution_count": 83,
   "metadata": {},
   "outputs": [
    {
     "name": "stdout",
     "output_type": "stream",
     "text": [
      "\n",
      " Creating our own decorators with arguments\n",
      "***************\n",
      "hello :)\n",
      "***************\n"
     ]
    }
   ],
   "source": [
    "#another method\n",
    "print(\"\\n Creating our own decorators with arguments\")\n",
    "def my_decorator(func):\n",
    "  def wrap_func(greeting,emoji):\n",
    "    print(\"***************\")\n",
    "    func(greeting,emoji)\n",
    "    print(\"***************\")\n",
    "  return wrap_func\n",
    "\n",
    "@my_decorator\n",
    "def call_me(greeting,emoji):\n",
    "    print(greeting,emoji)\n",
    "\n",
    "call_me('hello', ':)')"
   ]
  },
  {
   "cell_type": "code",
   "execution_count": 91,
   "metadata": {},
   "outputs": [
    {
     "name": "stdout",
     "output_type": "stream",
     "text": [
      "***************\n",
      "('hello',) \n",
      " {}\n",
      "hello :)\n",
      "***************\n"
     ]
    }
   ],
   "source": [
    "#More flexible way\n",
    "def my_decorator(func):\n",
    "    def wrap_func(*args,**kwargs):\n",
    "        print(\"***************\")\n",
    "        print(args,\"\\n\",kwargs)\n",
    "        func(*args,**kwargs)\n",
    "        print(\"***************\")\n",
    "    return wrap_func\n",
    "\n",
    "@my_decorator\n",
    "def call_me(greeting,emoji=':)'):\n",
    "    print(greeting,emoji)\n",
    "\n",
    "call_me('hello')\n",
    "\n"
   ]
  },
  {
   "cell_type": "code",
   "execution_count": 98,
   "metadata": {},
   "outputs": [
    {
     "name": "stdout",
     "output_type": "stream",
     "text": [
      "{'name': 'jay', 'vaild': True}\n"
     ]
    },
    {
     "ename": "KeyError",
     "evalue": "'valid'",
     "output_type": "error",
     "traceback": [
      "\u001b[1;31m---------------------------------------------------------------------------\u001b[0m",
      "\u001b[1;31mKeyError\u001b[0m                                  Traceback (most recent call last)",
      "Cell \u001b[1;32mIn[98], line 24\u001b[0m\n\u001b[0;32m     20\u001b[0m \u001b[39m@authenticated\u001b[39m\n\u001b[0;32m     21\u001b[0m \u001b[39mdef\u001b[39;00m \u001b[39mmessage_friends\u001b[39m(user):\n\u001b[0;32m     22\u001b[0m     \u001b[39mprint\u001b[39m(\u001b[39m\"\u001b[39m\u001b[39mmeassage has been sent\u001b[39m\u001b[39m\"\u001b[39m)\n\u001b[1;32m---> 24\u001b[0m message_friends(user1)\n\u001b[0;32m     25\u001b[0m message_friends(user2)\n",
      "Cell \u001b[1;32mIn[98], line 14\u001b[0m, in \u001b[0;36mauthenticated.<locals>.wrapper\u001b[1;34m(*args, **kwargs)\u001b[0m\n\u001b[0;32m     12\u001b[0m \u001b[39mdef\u001b[39;00m \u001b[39mwrapper\u001b[39m(\u001b[39m*\u001b[39margs,\u001b[39m*\u001b[39m\u001b[39m*\u001b[39mkwargs):\n\u001b[0;32m     13\u001b[0m   \u001b[39mprint\u001b[39m(args[\u001b[39m0\u001b[39m])\n\u001b[1;32m---> 14\u001b[0m   \u001b[39mif\u001b[39;00m args[\u001b[39m0\u001b[39;49m][\u001b[39m'\u001b[39;49m\u001b[39mvalid\u001b[39;49m\u001b[39m'\u001b[39;49m] \u001b[39m==\u001b[39m \u001b[39mTrue\u001b[39;00m:\n\u001b[0;32m     15\u001b[0m     an(\u001b[39m*\u001b[39margs,\u001b[39m*\u001b[39m\u001b[39m*\u001b[39mkwargs)\n\u001b[0;32m     16\u001b[0m   \u001b[39melse\u001b[39;00m:\n",
      "\u001b[1;31mKeyError\u001b[0m: 'valid'"
     ]
    }
   ],
   "source": [
    "user1 = {\n",
    "    'name':'jay',\n",
    "    'vaild': True\n",
    "}\n",
    "\n",
    "user2 ={\n",
    "    'name':'xyz',\n",
    "    'valid': False\n",
    "}\n",
    "\n",
    "def authenticated(an):\n",
    "    def wrapper(*args,**kwargs):\n",
    "      print(args[0])\n",
    "      if args[0]['valid'] == True:\n",
    "        an(*args,**kwargs)\n",
    "      else:\n",
    "        print(\"the user is not valid\")\n",
    "    return wrapper\n",
    "\n",
    "@authenticated\n",
    "def message_friends(user):\n",
    "  print(\"meassage has been sent\")\n",
    "\n",
    "message_friends(user1)\n",
    "message_friends(user2)"
   ]
  },
  {
   "cell_type": "code",
   "execution_count": 100,
   "metadata": {},
   "outputs": [
    {
     "name": "stdout",
     "output_type": "stream",
     "text": [
      "print\n"
     ]
    },
    {
     "data": {
      "text/plain": [
       "'Sat Jan 21 12:09:32 2023'"
      ]
     },
     "execution_count": 100,
     "metadata": {},
     "output_type": "execute_result"
    }
   ],
   "source": [
    "#Time module\n",
    "import time\n",
    "time.sleep(5)\n",
    "print(\"print\")\n",
    "time.time()\n",
    "time.ctime()"
   ]
  },
  {
   "cell_type": "code",
   "execution_count": 108,
   "metadata": {},
   "outputs": [
    {
     "name": "stdout",
     "output_type": "stream",
     "text": [
      "Took 0.0 seconds to complete\n",
      "Took 12.992620468139648 seconds to complete\n"
     ]
    }
   ],
   "source": [
    "from time import time\n",
    "\n",
    "def performance(fn):\n",
    "  def wrapper(*args, **kwargs):\n",
    "    t1 = time()\n",
    "    result = fn(*args,**kwargs)\n",
    "    t2 = time()\n",
    "    print(f'Took {(t2-t1)*1000} seconds to complete')\n",
    "    return result\n",
    "  return wrapper\n",
    "\n",
    "@performance\n",
    "def my_function():\n",
    "  for i in range(1000):\n",
    "    i*2\n",
    "\n",
    "my_function()\n",
    "\n",
    "@performance\n",
    "def my_function():\n",
    "  for i in range(100000):\n",
    "    i*2\n",
    "\n",
    "my_function()    "
   ]
  },
  {
   "cell_type": "code",
   "execution_count": 125,
   "metadata": {},
   "outputs": [
    {
     "name": "stdout",
     "output_type": "stream",
     "text": [
      "1\n",
      "Time to run :  0.011992454528808594  seconds\n",
      "2\n",
      "Time to run :  0.01898980140686035  seconds\n"
     ]
    }
   ],
   "source": [
    "from time import time\n",
    "\n",
    "def performance(fun):\n",
    "  def wrapper():\n",
    "    t1 = time()\n",
    "    fun()\n",
    "    t2 = time()\n",
    "    print(\"\\nTime to run : \", t2-t1, \" seconds\")\n",
    "  return wrapper\n",
    "\n",
    "@performance\n",
    "def long_time():\n",
    "  print(\"1\", end=\"\")\n",
    "  for time in range(100000):\n",
    "    time*2\n",
    "\n",
    "@performance\n",
    "def long_time2():\n",
    "  print(\"2\", end=\"\")\n",
    "  for time in range(100000):\n",
    "    time*2\n",
    "    \n",
    "\n",
    "long_time()\n",
    "long_time2()"
   ]
  },
  {
   "cell_type": "code",
   "execution_count": 128,
   "metadata": {},
   "outputs": [
    {
     "name": "stdout",
     "output_type": "stream",
     "text": [
      "0\n",
      "1\n",
      "2\n",
      "3\n",
      "4\n"
     ]
    }
   ],
   "source": [
    "#How Range Works\n",
    "class MyRangeGen():\n",
    "    current = 0\n",
    "    def __init__(self,first,last):\n",
    "        self.first=first\n",
    "        self.last=last\n",
    "\n",
    "    def __iter__(self):\n",
    "        return self\n",
    "    \n",
    "    def __next__(self):\n",
    "        if MyRangeGen.current< self.last:\n",
    "            num = MyRangeGen.current\n",
    "            MyRangeGen.current+=1\n",
    "            return num\n",
    "        raise StopIteration\n",
    "gen = MyRangeGen(0,5)\n",
    "for num in gen:\n",
    "    print(num)\n"
   ]
  },
  {
   "cell_type": "code",
   "execution_count": 129,
   "metadata": {},
   "outputs": [
    {
     "name": "stdout",
     "output_type": "stream",
     "text": [
      "1\n",
      "2\n",
      "3\n"
     ]
    }
   ],
   "source": [
    "#How \"For Loops\" Work\n",
    "def special_iter(iterable):\n",
    "    iterator = iter(iterable)\n",
    "    while True:\n",
    "        try:\n",
    "            print(next(iterator))\n",
    "        except StopIteration:\n",
    "            break\n",
    "special_iter([1,2,3])"
   ]
  },
  {
   "cell_type": "code",
   "execution_count": 132,
   "metadata": {},
   "outputs": [
    {
     "name": "stdout",
     "output_type": "stream",
     "text": [
      "0\n",
      "1\n",
      "1\n",
      "2\n",
      "3\n"
     ]
    }
   ],
   "source": [
    "def fib(number):\n",
    "    a=0\n",
    "    b=1\n",
    "    for i in range(number):\n",
    "        yield a\n",
    "        temp =a\n",
    "        a=b\n",
    "        b=temp+b\n",
    "for x in fib(5):\n",
    "    print(x)"
   ]
  },
  {
   "cell_type": "code",
   "execution_count": 133,
   "metadata": {},
   "outputs": [
    {
     "name": "stdout",
     "output_type": "stream",
     "text": [
      "Range :  range(0, 100)\n",
      "\n",
      "Lists :  [0, 1, 2, 3, 4, 5, 6, 7, 8, 9, 10, 11, 12, 13, 14, 15, 16, 17, 18, 19, 20, 21, 22, 23, 24, 25, 26, 27, 28, 29, 30, 31, 32, 33, 34, 35, 36, 37, 38, 39, 40, 41, 42, 43, 44, 45, 46, 47, 48, 49, 50, 51, 52, 53, 54, 55, 56, 57, 58, 59, 60, 61, 62, 63, 64, 65, 66, 67, 68, 69, 70, 71, 72, 73, 74, 75, 76, 77, 78, 79, 80, 81, 82, 83, 84, 85, 86, 87, 88, 89, 90, 91, 92, 93, 94, 95, 96, 97, 98, 99]\n"
     ]
    }
   ],
   "source": [
    "#Generators\n",
    "print(\"Range : \",range(100))\n",
    "print(\"\\nLists : \",list(range(100)))"
   ]
  },
  {
   "cell_type": "code",
   "execution_count": 134,
   "metadata": {},
   "outputs": [
    {
     "name": "stdout",
     "output_type": "stream",
     "text": [
      "\n",
      "Generated list this way: \n",
      " [0, 1, 2, 3, 4, 5, 6, 7, 8, 9, 10, 11, 12, 13, 14, 15, 16, 17, 18, 19, 20, 21, 22, 23, 24, 25, 26, 27, 28, 29, 30, 31, 32, 33, 34, 35, 36, 37, 38, 39, 40, 41, 42, 43, 44, 45, 46, 47, 48, 49, 50, 51, 52, 53, 54, 55, 56, 57, 58, 59, 60, 61, 62, 63, 64, 65, 66, 67, 68, 69, 70, 71, 72, 73, 74, 75, 76, 77, 78, 79, 80, 81, 82, 83, 84, 85, 86, 87, 88, 89, 90, 91, 92, 93, 94, 95, 96, 97, 98, 99]\n"
     ]
    }
   ],
   "source": [
    "def create_list(num):\n",
    "    generated_list = []\n",
    "    for i in range(num):\n",
    "        generated_list.append(i)\n",
    "    return generated_list\n",
    "print(\"\\nGenerated list this way: \\n\",create_list(100))"
   ]
  },
  {
   "cell_type": "code",
   "execution_count": 137,
   "metadata": {},
   "outputs": [
    {
     "name": "stdout",
     "output_type": "stream",
     "text": [
      "[2, 4, 6]\n"
     ]
    }
   ],
   "source": [
    "my_list=[1,2,3]\n",
    "def multiply_by2(l):\n",
    "    new_list=[]\n",
    "    for item in my_list:\n",
    "        new_list.append(item*2)\n",
    "    return new_list\n",
    "\n",
    "print(multiply_by2(my_list))"
   ]
  },
  {
   "cell_type": "code",
   "execution_count": 147,
   "metadata": {},
   "outputs": [
    {
     "name": "stdout",
     "output_type": "stream",
     "text": [
      "[2, 4, 6]\n"
     ]
    }
   ],
   "source": [
    "#map,filter,reduce,zip\n",
    "my_list=[1,2,3]\n",
    "def multiply_by2(x):\n",
    "    return x*2\n",
    "print(list(map(multiply_by2,my_list)))"
   ]
  },
  {
   "cell_type": "code",
   "execution_count": 141,
   "metadata": {},
   "outputs": [
    {
     "name": "stdout",
     "output_type": "stream",
     "text": [
      "[2, 4, 6]\n"
     ]
    }
   ],
   "source": [
    "print(list(map(lambda x: x*2,my_list)))"
   ]
  },
  {
   "cell_type": "code",
   "execution_count": 142,
   "metadata": {},
   "outputs": [
    {
     "name": "stdout",
     "output_type": "stream",
     "text": [
      "['SURAT', 'VADODARA', 'AHMEDABAD']\n"
     ]
    }
   ],
   "source": [
    "my_list = ['surat', 'vadodara', 'ahmedabad']\n",
    "print(list(map(str.upper,my_list)))"
   ]
  },
  {
   "cell_type": "code",
   "execution_count": 145,
   "metadata": {},
   "outputs": [
    {
     "name": "stdout",
     "output_type": "stream",
     "text": [
      "[1, 3]\n"
     ]
    }
   ],
   "source": [
    "my_list = [1,2,3]\n",
    "def only_odd(x):\n",
    "    return x%2!=0\n",
    "print(list(filter(only_odd,my_list)))"
   ]
  },
  {
   "cell_type": "code",
   "execution_count": 148,
   "metadata": {},
   "outputs": [
    {
     "name": "stdout",
     "output_type": "stream",
     "text": [
      "[(1, 10), (2, 20), (3, 30)]\n"
     ]
    }
   ],
   "source": [
    "my_list = [1,2,3]\n",
    "your_list = [10,20,30]\n",
    "\n",
    "print(list(zip(my_list,your_list)))"
   ]
  },
  {
   "cell_type": "code",
   "execution_count": 150,
   "metadata": {},
   "outputs": [
    {
     "name": "stdout",
     "output_type": "stream",
     "text": [
      "0 1\n",
      "1 2\n",
      "3 3\n",
      "6\n"
     ]
    }
   ],
   "source": [
    "#reduce\n",
    "from functools import reduce\n",
    "my_list=[1,2,3]\n",
    "def accumulator(acc,item):\n",
    "    print(acc,item)\n",
    "    return acc+item\n",
    "print(reduce(accumulator,my_list,0))"
   ]
  },
  {
   "cell_type": "code",
   "execution_count": 152,
   "metadata": {},
   "outputs": [
    {
     "name": "stdout",
     "output_type": "stream",
     "text": [
      "[2, 4, 6]\n",
      "[2]\n",
      "6\n"
     ]
    }
   ],
   "source": [
    "my_list=[1,2,3]\n",
    "print(list(map(lambda my_list_item:my_list_item*2,my_list)))\n",
    "print(list(filter(lambda my_list_item:my_list_item%2==0 , my_list)))\n",
    "print(reduce(lambda acc,my_list_item:acc+my_list_item,my_list,0))"
   ]
  },
  {
   "cell_type": "code",
   "execution_count": 153,
   "metadata": {},
   "outputs": [
    {
     "name": "stdout",
     "output_type": "stream",
     "text": [
      "[1, 4, 9]\n"
     ]
    }
   ],
   "source": [
    "my_list=[1,2,3]\n",
    "print(list(map(lambda my_list_item:my_list_item**2,my_list)))"
   ]
  },
  {
   "cell_type": "code",
   "execution_count": 158,
   "metadata": {},
   "outputs": [
    {
     "name": "stdout",
     "output_type": "stream",
     "text": [
      "[(10, -1), (0, 2), (4, 3), (9, 9)]\n"
     ]
    }
   ],
   "source": [
    "a=[(0,2),(4,3),(10,-1),(9,9)]\n",
    "a.sort(key = lambda item_a:item_a[1])\n",
    "print(a)"
   ]
  },
  {
   "cell_type": "code",
   "execution_count": 167,
   "metadata": {},
   "outputs": [
    {
     "name": "stdout",
     "output_type": "stream",
     "text": [
      "[27, 27, 27, 27]\n"
     ]
    }
   ],
   "source": [
    "def multiplexers():\n",
    "    return[lambda n: index*n for index in range(4)]\n",
    "print([m(9) for m in multiplexers()])"
   ]
  },
  {
   "cell_type": "code",
   "execution_count": 168,
   "metadata": {},
   "outputs": [
    {
     "name": "stdout",
     "output_type": "stream",
     "text": [
      "['H', 'e', 'l', 'l', 'o']\n"
     ]
    }
   ],
   "source": [
    "#list,set,dictionary comprehension\n",
    "my_set1 = [char for char in 'Hello']\n",
    "print(my_set1)"
   ]
  },
  {
   "cell_type": "code",
   "execution_count": 170,
   "metadata": {},
   "outputs": [
    {
     "name": "stdout",
     "output_type": "stream",
     "text": [
      "{1, 2, 3, 4, 5, 6, 7, 8, 9}\n"
     ]
    }
   ],
   "source": [
    "my_set2 = {value for value in range(1,10)}\n",
    "print(my_set2)"
   ]
  },
  {
   "cell_type": "code",
   "execution_count": 171,
   "metadata": {},
   "outputs": [
    {
     "name": "stdout",
     "output_type": "stream",
     "text": [
      "{2, 4, 6, 8, 10, 12, 14, 16, 18}\n"
     ]
    }
   ],
   "source": [
    "my_set3 = {value*2 for value in range(1,10)}\n",
    "print(my_set3)"
   ]
  },
  {
   "cell_type": "code",
   "execution_count": 172,
   "metadata": {},
   "outputs": [
    {
     "name": "stdout",
     "output_type": "stream",
     "text": [
      "{'a': 12}\n"
     ]
    }
   ],
   "source": [
    "simple_dictionary = {\n",
    "    'a':12,\n",
    "    'b':5\n",
    "}\n",
    "new_dcitionary={key:value for key,value in simple_dictionary.items()if value%2==0}\n",
    "print(new_dcitionary)\n",
    "\n"
   ]
  },
  {
   "cell_type": "code",
   "execution_count": 174,
   "metadata": {},
   "outputs": [
    {
     "name": "stdout",
     "output_type": "stream",
     "text": [
      "{1: 2, 2: 4, 3: 6}\n"
     ]
    }
   ],
   "source": [
    "my_list=[1,2,3]\n",
    "new_dcitionary ={k:k*2 for k in my_list}\n",
    "print(new_dcitionary)"
   ]
  },
  {
   "cell_type": "code",
   "execution_count": 177,
   "metadata": {},
   "outputs": [
    {
     "name": "stdout",
     "output_type": "stream",
     "text": [
      "{'n', 'b'}\n"
     ]
    }
   ],
   "source": [
    "my_list = ['a','b','c','b','d','m','n','n']\n",
    "\n",
    "new_list = set([item for item in my_list if my_list.count(item)>1])\n",
    "print(new_list)\n"
   ]
  },
  {
   "cell_type": "code",
   "execution_count": 181,
   "metadata": {},
   "outputs": [],
   "source": [
    "with open(\"Some_Code.txt\") as f:\n",
    "  data = f.read();"
   ]
  },
  {
   "cell_type": "code",
   "execution_count": 180,
   "metadata": {},
   "outputs": [
    {
     "name": "stdout",
     "output_type": "stream",
     "text": [
      "True\n"
     ]
    }
   ],
   "source": [
    "class FileManager():\n",
    "    def __init__(self,filename,mode):\n",
    "        self.filename = filename\n",
    "        self.mode = mode\n",
    "        self.file = None\n",
    "\n",
    "    def __enter__(self):\n",
    "        self.file = open(self.filename,self.mode)\n",
    "        return self.file\n",
    "    \n",
    "    def __exit__(self, exc_type, exc_value, exc_traceback):\n",
    "        self.file.close()\n",
    "\n",
    "with FileManager('Some_Code.txt', 'r')as f:\n",
    "    f.read()\n",
    "print(f.closed)"
   ]
  },
  {
   "cell_type": "code",
   "execution_count": 186,
   "metadata": {},
   "outputs": [
    {
     "ename": "ModuleNotFoundError",
     "evalue": "No module named 'template'",
     "output_type": "error",
     "traceback": [
      "\u001b[1;31m---------------------------------------------------------------------------\u001b[0m",
      "\u001b[1;31mModuleNotFoundError\u001b[0m                       Traceback (most recent call last)",
      "Cell \u001b[1;32mIn[186], line 1\u001b[0m\n\u001b[1;32m----> 1\u001b[0m \u001b[39mimport\u001b[39;00m \u001b[39mtemplate\u001b[39;00m \n\u001b[0;32m      3\u001b[0m \u001b[39mprint\u001b[39m(template(\u001b[39m'\u001b[39m\u001b[39mthe answer is \u001b[39m\u001b[39m{{\u001b[39m\u001b[39mx}}\u001b[39m\u001b[39m'\u001b[39m,x\u001b[39m=\u001b[39m\u001b[39m10\u001b[39m))\n",
      "\u001b[1;31mModuleNotFoundError\u001b[0m: No module named 'template'"
     ]
    }
   ],
   "source": [
    "from bottle import template\n",
    "\n",
    "print(template('the answer is {{x}}',x=10))"
   ]
  },
  {
   "cell_type": "code",
   "execution_count": 189,
   "metadata": {},
   "outputs": [
    {
     "name": "stdout",
     "output_type": "stream",
     "text": [
      "('A', 'D', 'x')\n",
      "('A', 'D', 'y')\n",
      "('A', 'D', 'z')\n",
      "('A', 'E', 'x')\n",
      "('A', 'E', 'y')\n",
      "('A', 'E', 'z')\n",
      "('B', 'D', 'x')\n",
      "('B', 'D', 'y')\n",
      "('B', 'D', 'z')\n",
      "('B', 'E', 'x')\n",
      "('B', 'E', 'y')\n",
      "('B', 'E', 'z')\n",
      "('C', 'D', 'x')\n",
      "('C', 'D', 'y')\n",
      "('C', 'D', 'z')\n",
      "('C', 'E', 'x')\n",
      "('C', 'E', 'y')\n",
      "('C', 'E', 'z')\n",
      "('L', 'o')\n",
      "('L', 'v')\n",
      "('L', 'e')\n",
      "('o', 'L')\n",
      "('o', 'v')\n",
      "('o', 'e')\n",
      "('v', 'L')\n",
      "('v', 'o')\n",
      "('v', 'e')\n",
      "('e', 'L')\n",
      "('e', 'o')\n",
      "('e', 'v')\n",
      "('L', 'o')\n",
      "('L', 'v')\n",
      "('L', 'e')\n",
      "('o', 'v')\n",
      "('o', 'e')\n",
      "('v', 'e')\n"
     ]
    }
   ],
   "source": [
    "from itertools import*\n",
    "for t in product('ABC','DE','xyz'):\n",
    "    print(t)\n",
    "for t in permutations('Love'):\n",
    "    print(t)\n",
    "for t in permutations('Love',2):\n",
    "    print(t)\n",
    "for t in combinations('Love',2):\n",
    "    print(t)\n"
   ]
  },
  {
   "cell_type": "code",
   "execution_count": 190,
   "metadata": {},
   "outputs": [
    {
     "ename": "ModuleNotFoundError",
     "evalue": "No module named 'bs4'",
     "output_type": "error",
     "traceback": [
      "\u001b[1;31m---------------------------------------------------------------------------\u001b[0m",
      "\u001b[1;31mModuleNotFoundError\u001b[0m                       Traceback (most recent call last)",
      "Cell \u001b[1;32mIn[190], line 1\u001b[0m\n\u001b[1;32m----> 1\u001b[0m \u001b[39mfrom\u001b[39;00m \u001b[39mbs4\u001b[39;00m \u001b[39mimport\u001b[39;00m BeautifulSoup\n\u001b[0;32m      2\u001b[0m r \u001b[39m=\u001b[39m requests\u001b[39m.\u001b[39mget(\u001b[39m'\u001b[39m\u001b[39mhttps://www.allsides.com/media-bias/media-bias-ratings\u001b[39m\u001b[39m'\u001b[39m)\n\u001b[0;32m      3\u001b[0m soup \u001b[39m=\u001b[39m BeautifulSoup(r\u001b[39m.\u001b[39mcontent, \u001b[39m'\u001b[39m\u001b[39mhtml.parser\u001b[39m\u001b[39m'\u001b[39m)\n",
      "\u001b[1;31mModuleNotFoundError\u001b[0m: No module named 'bs4'"
     ]
    }
   ],
   "source": [
    "from bs4 import BeautifulSoup\n",
    "r = requests.get('https://www.allsides.com/media-bias/media-bias-ratings')\n",
    "soup = BeautifulSoup(r.content, 'html.parser')\n",
    "rows = soup.select('tbody tr')"
   ]
  },
  {
   "cell_type": "code",
   "execution_count": 2,
   "metadata": {},
   "outputs": [
    {
     "ename": "FileNotFoundError",
     "evalue": "[Errno 2] No such file or directory: 'allsides.json'",
     "output_type": "error",
     "traceback": [
      "\u001b[1;31m---------------------------------------------------------------------------\u001b[0m",
      "\u001b[1;31mFileNotFoundError\u001b[0m                         Traceback (most recent call last)",
      "Cell \u001b[1;32mIn[2], line 3\u001b[0m\n\u001b[0;32m      1\u001b[0m \u001b[39m#Visualising data with pandas\u001b[39;00m\n\u001b[0;32m      2\u001b[0m \u001b[39mimport\u001b[39;00m \u001b[39mpandas\u001b[39;00m \u001b[39mas\u001b[39;00m \u001b[39mpd\u001b[39;00m\n\u001b[1;32m----> 3\u001b[0m df \u001b[39m=\u001b[39m pd\u001b[39m.\u001b[39mread_json(\u001b[39mopen\u001b[39;49m(\u001b[39m'\u001b[39;49m\u001b[39mallsides.json\u001b[39;49m\u001b[39m'\u001b[39;49m, \u001b[39m'\u001b[39;49m\u001b[39mr\u001b[39;49m\u001b[39m'\u001b[39;49m))\n\u001b[0;32m      4\u001b[0m df\u001b[39m.\u001b[39mset_index(\u001b[39m'\u001b[39m\u001b[39mname\u001b[39m\u001b[39m'\u001b[39m, inplace\u001b[39m=\u001b[39m\u001b[39mTrue\u001b[39;00m)\n\u001b[0;32m      5\u001b[0m df\u001b[39m.\u001b[39mhead()\n",
      "File \u001b[1;32m~\\AppData\\Roaming\\Python\\Python311\\site-packages\\IPython\\core\\interactiveshell.py:282\u001b[0m, in \u001b[0;36m_modified_open\u001b[1;34m(file, *args, **kwargs)\u001b[0m\n\u001b[0;32m    275\u001b[0m \u001b[39mif\u001b[39;00m file \u001b[39min\u001b[39;00m {\u001b[39m0\u001b[39m, \u001b[39m1\u001b[39m, \u001b[39m2\u001b[39m}:\n\u001b[0;32m    276\u001b[0m     \u001b[39mraise\u001b[39;00m \u001b[39mValueError\u001b[39;00m(\n\u001b[0;32m    277\u001b[0m         \u001b[39mf\u001b[39m\u001b[39m\"\u001b[39m\u001b[39mIPython won\u001b[39m\u001b[39m'\u001b[39m\u001b[39mt let you open fd=\u001b[39m\u001b[39m{\u001b[39;00mfile\u001b[39m}\u001b[39;00m\u001b[39m by default \u001b[39m\u001b[39m\"\u001b[39m\n\u001b[0;32m    278\u001b[0m         \u001b[39m\"\u001b[39m\u001b[39mas it is likely to crash IPython. If you know what you are doing, \u001b[39m\u001b[39m\"\u001b[39m\n\u001b[0;32m    279\u001b[0m         \u001b[39m\"\u001b[39m\u001b[39myou can use builtins\u001b[39m\u001b[39m'\u001b[39m\u001b[39m open.\u001b[39m\u001b[39m\"\u001b[39m\n\u001b[0;32m    280\u001b[0m     )\n\u001b[1;32m--> 282\u001b[0m \u001b[39mreturn\u001b[39;00m io_open(file, \u001b[39m*\u001b[39;49margs, \u001b[39m*\u001b[39;49m\u001b[39m*\u001b[39;49mkwargs)\n",
      "\u001b[1;31mFileNotFoundError\u001b[0m: [Errno 2] No such file or directory: 'allsides.json'"
     ]
    }
   ],
   "source": [
    "#Visualising data with pandas\n",
    "import pandas as pd\n",
    "df = pd.read_json(open('allsides.json', 'r'))\n",
    "df.set_index('name', inplace=True)\n",
    "df.head()\n",
    "df[df['agreeance_text'] == 'strongly disagrees']\n"
   ]
  },
  {
   "cell_type": "code",
   "execution_count": 8,
   "metadata": {},
   "outputs": [
    {
     "name": "stdout",
     "output_type": "stream",
     "text": [
      "please enter a number: \n",
      "ok, i am done here\n",
      "please enter a number: \n",
      "ok, i am done here\n",
      "1234567890\n",
      "thank you !\n",
      "ok, i am done here\n"
     ]
    }
   ],
   "source": [
    "#Error handeling\n",
    "while True:\n",
    "    try:\n",
    "        age= input(\"\\nenter your age: \")\n",
    "        print(int(age))\n",
    "    except ValueError:\n",
    "        print(\"please enter a number: \")\n",
    "        continue\n",
    "    except TypeError:\n",
    "        print(\"please enter a correct type!\")\n",
    "        continue\n",
    "    else:\n",
    "        print(\"thank you !\")\n",
    "        break\n",
    "    finally:\n",
    "        print(\"ok, i am done here\")\n"
   ]
  },
  {
   "cell_type": "code",
   "execution_count": 12,
   "metadata": {},
   "outputs": [
    {
     "name": "stdout",
     "output_type": "stream",
     "text": [
      "unsupported operand type(s) for +: 'int' and 'str'\n",
      "None\n"
     ]
    }
   ],
   "source": [
    "def sum(num1,num2):\n",
    "    try:\n",
    "        return num1+num2\n",
    "    except (TypeError,ZeroDivisionError)as err:\n",
    "        print(err)\n",
    "print(sum(1,'2'))"
   ]
  },
  {
   "cell_type": "code",
   "execution_count": 16,
   "metadata": {},
   "outputs": [
    {
     "ename": "AssertionError",
     "evalue": "",
     "output_type": "error",
     "traceback": [
      "\u001b[1;31m---------------------------------------------------------------------------\u001b[0m",
      "\u001b[1;31mAssertionError\u001b[0m                            Traceback (most recent call last)",
      "Cell \u001b[1;32mIn[16], line 2\u001b[0m\n\u001b[0;32m      1\u001b[0m \u001b[39m#Assertions\u001b[39;00m\n\u001b[1;32m----> 2\u001b[0m \u001b[39massert\u001b[39;00m \u001b[39m5\u001b[39m\u001b[39m+\u001b[39m\u001b[39m3\u001b[39m \u001b[39m==\u001b[39m \u001b[39m9\u001b[39m\n\u001b[0;32m      3\u001b[0m \u001b[39massert\u001b[39;00m \u001b[39m5\u001b[39m\u001b[39m+\u001b[39m\u001b[39m3\u001b[39m \u001b[39m==\u001b[39m \u001b[39m8\u001b[39m\n",
      "\u001b[1;31mAssertionError\u001b[0m: "
     ]
    }
   ],
   "source": [
    "#Assertions\n",
    "assert 5+3 == 9\n",
    "assert 5+3 == 8"
   ]
  },
  {
   "cell_type": "code",
   "execution_count": 17,
   "metadata": {},
   "outputs": [
    {
     "name": "stdout",
     "output_type": "stream",
     "text": [
      "Serach present : True\n"
     ]
    }
   ],
   "source": [
    "#Regular expressions\n",
    "import re\n",
    "\n",
    "string = \"this serach inside of this please!\"\n",
    "print(f\"Serach present : {'serach'in string}\")"
   ]
  },
  {
   "cell_type": "code",
   "execution_count": 28,
   "metadata": {},
   "outputs": [
    {
     "name": "stdout",
     "output_type": "stream",
     "text": [
      "a :  <re.Match object; span=(0, 4), match='this'>\n",
      "a start index:  0\n",
      "a end index:  4\n",
      "\n",
      "Find a instances :  ['this', 'this']\n",
      "\n",
      " Simple match : <re.Match object; span=(0, 4), match='this'>\n",
      "\n",
      " full mathch:  None\n"
     ]
    }
   ],
   "source": [
    "#serach using pattern\n",
    "pattern = re.compile(\"this\")\n",
    "a = pattern.search(string)\n",
    "print(\"a : \",a)\n",
    "print(\"a start index: \",a.start())\n",
    "print(\"a end index: \",a.end())\n",
    "print(\"\\nFind a instances : \",pattern.findall(string))\n",
    "print(\"\\n Simple match :\",pattern.match(string))\n",
    "print(\"\\n full mathch: \", pattern.fullmatch(string))"
   ]
  },
  {
   "cell_type": "code",
   "execution_count": 41,
   "metadata": {},
   "outputs": [
    {
     "name": "stdout",
     "output_type": "stream",
     "text": [
      "a :  <re.Match object; span=(0, 25), match='jayrakholiya304@gmail.com'>\n"
     ]
    }
   ],
   "source": [
    "#Email validation\n",
    "email_pattern = re.compile(r\"(^[a-zA-Z0-9_.+-]+@[a-zA-Z0-9-]+\\.[a-zA-Z0-9-.]+$)\")\n",
    "email = \"jayrakholiya304@gmail.com\"\n",
    "a =email_pattern.search(email)\n",
    "print(\"a : \",a)\n"
   ]
  },
  {
   "cell_type": "code",
   "execution_count": 45,
   "metadata": {},
   "outputs": [
    {
     "name": "stdout",
     "output_type": "stream",
     "text": [
      "b :  <re.Match object; span=(0, 11), match='Winter09@@@'>\n"
     ]
    }
   ],
   "source": [
    "#Password validation\n",
    "password_pattern = re.compile(r\"^(?=.*[a-z])(?=.*[A-Z])(?=.*\\d)(?=.*[@$!%*#?&])[A-Za-z\\d@$!#%*?&]{6,20}$\")\n",
    "password = \"Winter09@@@\"\n",
    "b= password_pattern.search(password)\n",
    "print(\"b : \",b)"
   ]
  },
  {
   "cell_type": "code",
   "execution_count": 51,
   "metadata": {},
   "outputs": [
    {
     "ename": "TypeError",
     "evalue": "Strings must be encoded before hashing",
     "output_type": "error",
     "traceback": [
      "\u001b[1;31m---------------------------------------------------------------------------\u001b[0m",
      "\u001b[1;31mTypeError\u001b[0m                                 Traceback (most recent call last)",
      "Cell \u001b[1;32mIn[51], line 2\u001b[0m\n\u001b[0;32m      1\u001b[0m \u001b[39mimport\u001b[39;00m \u001b[39mhashlib\u001b[39;00m\n\u001b[1;32m----> 2\u001b[0m hashlib\u001b[39m.\u001b[39;49msha256(\u001b[39m'\u001b[39;49m\u001b[39mThe tale of two cities\u001b[39;49m\u001b[39m'\u001b[39;49m)\n\u001b[0;32m      3\u001b[0m hashlib\u001b[39m.\u001b[39msha256(\u001b[39m'\u001b[39m\u001b[39mThe tale of two cities\u001b[39m\u001b[39m'\u001b[39m\u001b[39m.\u001b[39mencode(\u001b[39m'\u001b[39m\u001b[39mutf-8\u001b[39m\u001b[39m'\u001b[39m))\n\u001b[0;32m      4\u001b[0m hashlib\u001b[39m.\u001b[39msha256(\u001b[39m'\u001b[39m\u001b[39mThe tale of two cities\u001b[39m\u001b[39m'\u001b[39m\u001b[39m.\u001b[39mencode(\u001b[39m'\u001b[39m\u001b[39mutf-8\u001b[39m\u001b[39m'\u001b[39m))\u001b[39m.\u001b[39mdigest()\n",
      "\u001b[1;31mTypeError\u001b[0m: Strings must be encoded before hashing"
     ]
    }
   ],
   "source": [
    "import hashlib\n",
    "hashlib.sha256('The tale of two cities')\n",
    "hashlib.sha256('The tale of two cities'.encode('utf-8'))\n",
    "hashlib.sha256('The tale of two cities'.encode('utf-8')).digest()\n",
    "hashlib.sha256('The tale of two cities'.encode('utf-8')).hexdigest()"
   ]
  },
  {
   "cell_type": "code",
   "execution_count": 53,
   "metadata": {},
   "outputs": [
    {
     "data": {
      "text/plain": [
       "b'\\xbb\\xd0\\x12\\x99\\x97#?\\xc6\\xae\\xc1[\\x96\\x9c\\x98\\xd8O\\xeees(\\x10\\t\\xca\\xedXp\\xbf\\x97\\xc9\\xa1$\\x9bzSf\\xbav\\xdf\\xed%x\\xbb\\x88\\x1f\\xfe\\xf9b\\xfd\\xc3\\xfa\\xd3\\x13Y\\xdc\\xcc\\xea\\xdd27F\\xba\\xddR\\xc9'"
      ]
     },
     "execution_count": 53,
     "metadata": {},
     "output_type": "execute_result"
    }
   ],
   "source": [
    "hashlib.sha1('The tale of two cities'.encode('utf-8'))\n",
    "hashlib.sha1('The tale of two cities'.encode('utf-8')).digest()\n",
    "hashlib.sha1('The tale of two cities'.encode('utf-8')).hexdigest()\n",
    "hashlib.sha256('The tale of two cities'.encode('utf-8')).digest()\n",
    "hashlib.sha512('The tale of two cities'.encode('utf-8')).digest()"
   ]
  },
  {
   "cell_type": "code",
   "execution_count": 55,
   "metadata": {},
   "outputs": [
    {
     "name": "stdout",
     "output_type": "stream",
     "text": [
      "b'\\xa4\\x8a\\xa5\\xd2\\xfbZdl\\x99\\xbb4\\x1d\\xdfA8\\xee^\\xcd<\\x9b5Q\\x11,\"\\xa9T(\\xcb!\\xbab\\x892x\\xea\\xc8[\\xf4\\xd0:v\\xcaY+\\x8fS>\\xaa\\x8bVF\\xb4E\\x92\\x8fq\\x81\\x9c\\xbc~\\x0f\\xed\\xc6'\n"
     ]
    }
   ],
   "source": [
    "b = 'The tale of two cities'.encode('utf-8')\n",
    "b = hashlib.sha512(b).digest()\n",
    "b = hashlib.sha512(b).digest()\n",
    "b = hashlib.sha512(b).digest()\n",
    "b = hashlib.sha512(b).digest()\n",
    "print(b)"
   ]
  },
  {
   "cell_type": "code",
   "execution_count": 56,
   "metadata": {},
   "outputs": [
    {
     "data": {
      "text/plain": [
       "b'\\xeb\\xb2\\x8fTl\\xeacb\\xca[\\xaf{\\xf1\\xa8\\xf4\\xe9\\xd3\\x9bka[\\xd6O9\\xa7\\xf7\\xb4\\x9d\\t=\\x80\\xd2'"
      ]
     },
     "execution_count": 56,
     "metadata": {},
     "output_type": "execute_result"
    }
   ],
   "source": [
    "p = 'The tale of two cities'.encode('utf-8')\n",
    "hashlib.pbkdf2_hmac('sha256',p,b'some company phrase', 10000)\n",
    "hashlib.pbkdf2_hmac('sha256',p,b'some other phrase', 10000) "
   ]
  },
  {
   "cell_type": "code",
   "execution_count": 57,
   "metadata": {},
   "outputs": [
    {
     "ename": "ModuleNotFoundError",
     "evalue": "No module named 'utility'",
     "output_type": "error",
     "traceback": [
      "\u001b[1;31m---------------------------------------------------------------------------\u001b[0m",
      "\u001b[1;31mModuleNotFoundError\u001b[0m                       Traceback (most recent call last)",
      "Cell \u001b[1;32mIn[57], line 1\u001b[0m\n\u001b[1;32m----> 1\u001b[0m \u001b[39mimport\u001b[39;00m \u001b[39mutility\u001b[39;00m\n\u001b[0;32m      2\u001b[0m \u001b[39mimport\u001b[39;00m \u001b[39mshopping\u001b[39;00m\u001b[39m.\u001b[39;00m\u001b[39mshopping_cart\u001b[39;00m\n\u001b[0;32m      4\u001b[0m \u001b[39mif\u001b[39;00m \u001b[39m__name__\u001b[39m \u001b[39m==\u001b[39m \u001b[39m'\u001b[39m\u001b[39m__main__\u001b[39m\u001b[39m'\u001b[39m:\n",
      "\u001b[1;31mModuleNotFoundError\u001b[0m: No module named 'utility'"
     ]
    }
   ],
   "source": [
    "import utility\n",
    "import shopping.shopping_cart\n",
    "\n",
    "if __name__ == '__main__':\n",
    "\n",
    "    print(\"\\nRun this code\")\n",
    "    print(shopping.shopping_cart.buy('apple'))\n",
    "    \n",
    "    print(\"\\nDefault name of the file that we run is '\", __name__, \"'\")"
   ]
  },
  {
   "cell_type": "code",
   "execution_count": 67,
   "metadata": {},
   "outputs": [
    {
     "name": "stdout",
     "output_type": "stream",
     "text": [
      "0.530832386386493\n",
      "2\n",
      "2\n",
      "[4, 5, 1, 3, 2]\n"
     ]
    }
   ],
   "source": [
    "import random\n",
    "print(random.random())\n",
    "print(random.randint(1,10))\n",
    "my_list = [1,2,3,4,5]\n",
    "print(random.choice(my_list))\n",
    "random.shuffle(my_list)\n",
    "print(my_list)"
   ]
  },
  {
   "cell_type": "code",
   "execution_count": 71,
   "metadata": {},
   "outputs": [
    {
     "data": {
      "text/plain": [
       "33"
      ]
     },
     "execution_count": 71,
     "metadata": {},
     "output_type": "execute_result"
    }
   ],
   "source": [
    "def sum(*args):\n",
    "    sum=0\n",
    "    for item in args:\n",
    "        sum+=item\n",
    "    return sum\n",
    "sum(1,2,3,4,5,5,6,7)"
   ]
  },
  {
   "cell_type": "code",
   "execution_count": 72,
   "metadata": {},
   "outputs": [
    {
     "name": "stdout",
     "output_type": "stream",
     "text": [
      "['ch1.ipynb', 'ch11.ipynb', 'ch2.ipynb', 'ch3.ipynb', 'ch4.ipynb', 'ch5.ipynb', 'ch6.ipynb', 'ch7.ipynb', 'ch8,9,10.ipynb', 'Some_Code.txt']\n"
     ]
    }
   ],
   "source": [
    "import os\n",
    "print(os.listdir(\"./\"))"
   ]
  },
  {
   "cell_type": "code",
   "execution_count": 74,
   "metadata": {},
   "outputs": [
    {
     "name": "stdout",
     "output_type": "stream",
     "text": [
      "[]\n"
     ]
    }
   ],
   "source": [
    "import glob\n",
    "print(glob.glob('./*.py'))\n"
   ]
  },
  {
   "cell_type": "code",
   "execution_count": 79,
   "metadata": {},
   "outputs": [
    {
     "name": "stdout",
     "output_type": "stream",
     "text": [
      "line1\n",
      "line2\n",
      "line3\n",
      "line4\n",
      "line6\n",
      "line7\n",
      "\n",
      "\n"
     ]
    }
   ],
   "source": [
    "my_file = open('E:\\\\Rejoice hub\\\\new_file.txt')\n",
    "print(my_file.read())\n",
    "print(my_file.read())\n",
    "print(my_file.read())"
   ]
  },
  {
   "cell_type": "code",
   "execution_count": 82,
   "metadata": {},
   "outputs": [
    {
     "name": "stdout",
     "output_type": "stream",
     "text": [
      "line1\n",
      "line2\n",
      "line3\n",
      "line4\n",
      "line6\n",
      "line7\n",
      "line1\n",
      "line2\n",
      "line3\n",
      "line4\n",
      "line6\n",
      "line7\n",
      "\n",
      "\n"
     ]
    }
   ],
   "source": [
    "my_file = open('E:\\\\Rejoice hub\\\\new_file.txt')\n",
    "print(my_file.read())\n",
    "my_file.seek(0)\n",
    "print(my_file.read())\n",
    "print(my_file.readline())\n",
    "print(my_file.readline())\n",
    "my_file.close()"
   ]
  },
  {
   "cell_type": "code",
   "execution_count": null,
   "metadata": {},
   "outputs": [],
   "source": []
  }
 ],
 "metadata": {
  "kernelspec": {
   "display_name": "Python 3",
   "language": "python",
   "name": "python3"
  },
  "language_info": {
   "codemirror_mode": {
    "name": "ipython",
    "version": 3
   },
   "file_extension": ".py",
   "mimetype": "text/x-python",
   "name": "python",
   "nbconvert_exporter": "python",
   "pygments_lexer": "ipython3",
   "version": "3.11.0"
  },
  "orig_nbformat": 4,
  "vscode": {
   "interpreter": {
    "hash": "7677e4661468436987f033e54db47562858cd7b875bd3612ac1f52d3b0311de2"
   }
  }
 },
 "nbformat": 4,
 "nbformat_minor": 2
}
