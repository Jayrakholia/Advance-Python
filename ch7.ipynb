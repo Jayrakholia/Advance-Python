{
 "cells": [
  {
   "attachments": {},
   "cell_type": "markdown",
   "metadata": {},
   "source": [
    "Chap 7: Working with list3"
   ]
  },
  {
   "cell_type": "code",
   "execution_count": 6,
   "metadata": {},
   "outputs": [
    {
     "name": "stdout",
     "output_type": "stream",
     "text": [
      "None\n",
      "['Apples', 'Oranges', 'Blueberries']\n",
      "Blueberries\n",
      "['Apples', 'Oranges']\n",
      "None\n",
      "['Apples', 'Oranges', 'Kiwi']\n",
      "None\n",
      "['Apples', 'Apples', 'Oranges', 'Kiwi']\n",
      "2\n",
      "None\n",
      "[]\n"
     ]
    }
   ],
   "source": [
    "basket = [\"Banana\", \"Apples\", \"Oranges\", \"Blueberries\"];\n",
    "print(basket.remove('Banana'))\n",
    "print(basket)\n",
    "print(basket.pop())\n",
    "print(basket)\n",
    "print(basket.append(\"Kiwi\"))\n",
    "print(basket)\n",
    "print(basket.insert(0,\"Apples\"))\n",
    "print(basket)\n",
    "print(basket.count(\"Apples\"))\n",
    "print(basket.clear())\n",
    "print(basket)"
   ]
  }
 ],
 "metadata": {
  "kernelspec": {
   "display_name": "Python 3",
   "language": "python",
   "name": "python3"
  },
  "language_info": {
   "codemirror_mode": {
    "name": "ipython",
    "version": 3
   },
   "file_extension": ".py",
   "mimetype": "text/x-python",
   "name": "python",
   "nbconvert_exporter": "python",
   "pygments_lexer": "ipython3",
   "version": "3.11.0"
  },
  "orig_nbformat": 4,
  "vscode": {
   "interpreter": {
    "hash": "7677e4661468436987f033e54db47562858cd7b875bd3612ac1f52d3b0311de2"
   }
  }
 },
 "nbformat": 4,
 "nbformat_minor": 2
}
